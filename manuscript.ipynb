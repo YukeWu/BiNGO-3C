{
 "cells": [
  {
   "cell_type": "code",
   "execution_count": 1,
   "metadata": {},
   "outputs": [],
   "source": [
    "import numpy as np\n",
    "from scipy.stats import mode\n",
    "\n",
    "# Old code for previous 500 numbers dataset\n",
    "\n",
    "# import csv\n",
    "# true_label = []\n",
    "\n",
    "# with open('size_500_test.csv', 'r') as file:\n",
    "#     csv_reader = csv.reader(file)\n",
    "#     for row in csv_reader:\n",
    "#         true_label.append(int(row[0]))\n",
    "\n",
    "# Assuming we have an array of 500 numbers stored in the variable 'numbers'\n",
    "# def get_accuracy(numbers):\n",
    "#     chunk_size = 100\n",
    "#     num_chunks = len(numbers) // chunk_size\n",
    "\n",
    "#     modes = []\n",
    "\n",
    "#     for i in range(num_chunks):\n",
    "#         chunk = numbers[i * chunk_size: (i + 1) * chunk_size]\n",
    "#         mode_result = mode(chunk)\n",
    "#         mode_value = mode_result.mode[0]\n",
    "#         mode_count = mode_result.count[0]\n",
    "#         modes.append((mode_value, mode_count))\n",
    "\n",
    "#     print(modes)\n"
   ]
  },
  {
   "cell_type": "code",
   "execution_count": 2,
   "metadata": {},
   "outputs": [],
   "source": [
    "# NEW CODE FOR BAT AND CAT DATASET\n",
    "def process_fasta_file(input_file, output_file):\n",
    "    with open(input_file, 'r') as infile, open(output_file, 'w') as outfile:\n",
    "        sequence = ''\n",
    "        for line in infile:\n",
    "            if line.startswith('>'):\n",
    "                if sequence:\n",
    "                    outfile.write(sequence + '\\n')\n",
    "                    sequence = ''\n",
    "            else:\n",
    "                sequence += line.strip()\n",
    "        # Write the last sequence if it exists\n",
    "        if sequence:\n",
    "            outfile.write(sequence + '\\n')\n",
    "\n",
    "input_file_path = 'combined_Bat_Cat_flu.fa'\n",
    "output_file_path = 'combined_Bat_Cat_flu_.fa'\n",
    "\n",
    "process_fasta_file(input_file_path, output_file_path)"
   ]
  },
  {
   "cell_type": "code",
   "execution_count": 3,
   "metadata": {},
   "outputs": [
    {
     "data": {
      "text/plain": [
       "array([0, 0, 0, 0, 0, 0, 0, 0, 0, 0, 0, 0, 0, 0, 0, 0, 0, 0, 0, 0, 0, 0,\n",
       "       0, 0, 0, 0, 0, 0, 0, 0, 0, 0, 0, 0, 0, 0, 0, 0, 0, 0, 0, 0, 0, 0,\n",
       "       0, 0, 0, 0, 0, 0, 0, 0, 0, 0, 0, 0, 0, 0, 0, 0, 0, 0, 0, 0, 0, 0,\n",
       "       0, 0, 0, 0, 0, 0, 0, 1, 0, 0, 0, 1, 0, 0, 0, 0, 0, 0, 0, 1, 1, 1,\n",
       "       1, 1, 1, 1, 1, 1, 1, 1, 1, 1, 0, 1, 1, 1, 1, 1, 1, 1, 1, 1, 0, 0,\n",
       "       1, 1, 0, 1, 1, 1, 1, 1, 1, 1, 1, 0, 1, 1, 1, 1, 1, 1, 1, 0, 1, 1,\n",
       "       1, 1, 1, 1, 0, 0, 0, 0, 0, 0, 0, 0, 1, 1, 1, 1, 1, 1, 1, 1, 1, 1,\n",
       "       1, 1, 1, 1, 1, 1, 1, 1, 1, 1, 1, 1, 1, 1, 1, 1, 1, 1, 1, 1, 1, 1,\n",
       "       1, 1], dtype=int32)"
      ]
     },
     "execution_count": 3,
     "metadata": {},
     "output_type": "execute_result"
    }
   ],
   "source": [
    "# NEW CODE FOR BAT AND CAT DATASET\n",
    "import pandas as pd\n",
    "import numpy as np\n",
    "from sklearn.cluster import KMeans\n",
    "data = pd.read_csv('similarity-matrix-batcat.csv')\n",
    "similarity_matrix = data.drop(columns=['Unnamed: 0']) \n",
    "k = 2  # Number of clusters\n",
    "kmeans = KMeans(n_clusters=2, random_state=42)\n",
    "kmeans.fit(similarity_matrix)\n",
    "kmeans_labels = np.array(kmeans.labels_)\n",
    "kmeans_labels"
   ]
  },
  {
   "cell_type": "code",
   "execution_count": 4,
   "metadata": {},
   "outputs": [
    {
     "name": "stdout",
     "output_type": "stream",
     "text": [
      "0.8146067415730337\n"
     ]
    }
   ],
   "source": [
    "# calculate accuracy, the true labels are the first 64 0s and the last 114 1s\n",
    "# the predicted labels are the kmeans_labels\n",
    "accuracy = 0\n",
    "true_label = [0] * 64 + [1] * 114\n",
    "for i in range(len(true_label)):\n",
    "    if true_label[i] == kmeans_labels[i]:\n",
    "        accuracy += 1\n",
    "kmeans_accuracy = accuracy / len(true_label)\n",
    "print(kmeans_accuracy)"
   ]
  },
  {
   "cell_type": "code",
   "execution_count": 5,
   "metadata": {},
   "outputs": [
    {
     "data": {
      "text/plain": [
       "array([1, 1, 1, 1, 1, 1, 1, 1, 1, 1, 1, 1, 1, 1, 1, 1, 1, 1, 1, 1, 1, 1,\n",
       "       1, 1, 1, 1, 1, 1, 1, 1, 1, 1, 1, 1, 1, 1, 1, 1, 1, 1, 1, 1, 1, 1,\n",
       "       1, 1, 1, 1, 1, 1, 1, 0, 0, 1, 1, 0, 1, 1, 0, 1, 1, 0, 1, 1, 1, 1,\n",
       "       0, 1, 1, 1, 1, 1, 0, 0, 1, 1, 1, 0, 1, 1, 1, 1, 1, 1, 1, 0, 0, 0,\n",
       "       0, 0, 0, 0, 0, 0, 0, 0, 0, 0, 1, 0, 0, 0, 0, 0, 0, 0, 0, 0, 1, 1,\n",
       "       0, 0, 1, 0, 0, 0, 0, 0, 0, 0, 0, 1, 0, 0, 0, 0, 0, 0, 0, 1, 0, 0,\n",
       "       0, 0, 0, 0, 1, 1, 1, 1, 1, 1, 1, 1, 0, 0, 0, 0, 0, 0, 0, 0, 0, 0,\n",
       "       0, 0, 0, 0, 0, 0, 0, 0, 0, 0, 0, 0, 0, 0, 0, 0, 0, 0, 0, 0, 0, 0,\n",
       "       0, 0])"
      ]
     },
     "execution_count": 5,
     "metadata": {},
     "output_type": "execute_result"
    }
   ],
   "source": [
    "from sklearn.mixture import GaussianMixture as GMM\n",
    "gmm = GMM(n_components=2, random_state=42).fit(similarity_matrix)\n",
    "gmm_labels = gmm.predict(similarity_matrix)\n",
    "gmm_labels"
   ]
  },
  {
   "cell_type": "code",
   "execution_count": 6,
   "metadata": {},
   "outputs": [
    {
     "name": "stdout",
     "output_type": "stream",
     "text": [
      "0.797752808988764\n"
     ]
    }
   ],
   "source": [
    "accuracy = 0\n",
    "# flip 0 to 1 and 1 to 0 in gmm_labels to match the true labels\n",
    "gmm_labels = 1 - gmm_labels\n",
    "true_label = [0] * 64 + [1] * 114\n",
    "for i in range(len(true_label)):\n",
    "    if true_label[i] == gmm_labels[i]:\n",
    "        accuracy += 1\n",
    "gmm_accuracy = accuracy / len(true_label)\n",
    "print(gmm_accuracy)"
   ]
  },
  {
   "cell_type": "code",
   "execution_count": 7,
   "metadata": {},
   "outputs": [
    {
     "name": "stderr",
     "output_type": "stream",
     "text": [
      "/Users/yukewu/opt/anaconda3/lib/python3.8/site-packages/sklearn/cluster/_spectral.py:658: UserWarning: The spectral clustering API has changed. ``fit``now constructs an affinity matrix from data. To use a custom affinity matrix, set ``affinity=precomputed``.\n",
      "  warnings.warn(\n"
     ]
    },
    {
     "data": {
      "text/plain": [
       "array([0, 0, 0, 0, 0, 0, 0, 0, 0, 0, 0, 0, 0, 0, 0, 0, 0, 0, 0, 0, 0, 0,\n",
       "       0, 0, 0, 0, 0, 0, 0, 0, 0, 0, 0, 0, 0, 0, 0, 0, 0, 0, 0, 0, 0, 0,\n",
       "       0, 0, 0, 0, 0, 0, 0, 1, 1, 0, 1, 1, 0, 1, 1, 0, 1, 1, 0, 0, 0, 0,\n",
       "       1, 0, 0, 0, 0, 0, 1, 1, 0, 0, 0, 1, 0, 0, 0, 0, 0, 0, 0, 1, 1, 1,\n",
       "       1, 1, 1, 1, 1, 1, 1, 1, 1, 1, 0, 0, 1, 1, 1, 1, 1, 1, 1, 1, 0, 0,\n",
       "       0, 1, 0, 1, 1, 1, 1, 1, 1, 1, 1, 0, 1, 1, 1, 1, 1, 1, 1, 0, 1, 1,\n",
       "       1, 1, 1, 1, 0, 0, 0, 0, 0, 0, 0, 0, 1, 1, 1, 1, 1, 1, 1, 1, 1, 1,\n",
       "       1, 1, 1, 1, 1, 1, 1, 1, 1, 1, 1, 1, 1, 1, 1, 1, 1, 1, 1, 1, 1, 1,\n",
       "       1, 1], dtype=int32)"
      ]
     },
     "execution_count": 7,
     "metadata": {},
     "output_type": "execute_result"
    }
   ],
   "source": [
    "from sklearn.cluster import SpectralClustering\n",
    "spectral_clustering = SpectralClustering(n_clusters=2,random_state=42)\n",
    "spectral_clustering.fit(similarity_matrix)\n",
    "spectral_labels = spectral_clustering.labels_\n",
    "spectral_labels"
   ]
  },
  {
   "cell_type": "code",
   "execution_count": 8,
   "metadata": {},
   "outputs": [
    {
     "name": "stdout",
     "output_type": "stream",
     "text": [
      "0.7696629213483146\n"
     ]
    }
   ],
   "source": [
    "accuracy = 0\n",
    "true_label = [0] * 64 + [1] * 114\n",
    "for i in range(len(true_label)):\n",
    "    if true_label[i] == spectral_labels[i]:\n",
    "        accuracy += 1\n",
    "spectral_accuracy = accuracy / len(true_label)\n",
    "print(spectral_accuracy)"
   ]
  },
  {
   "cell_type": "code",
   "execution_count": 9,
   "metadata": {},
   "outputs": [],
   "source": [
    "# Old code calculating gmm accuracy for previous 500 numbers dataset\n",
    "# get_accuracy(gmm_labels)\n",
    "# sum(gmm_labels[300:400] == 3)\n",
    "# # 4-->0, 1-->1, 0-->2, 3-->3, 2-->4\n",
    "# gmm_result = []\n",
    "# for i in gmm_labels:\n",
    "#     if i == 4:\n",
    "#         gmm_result.append(0)\n",
    "#     elif i == 1:\n",
    "#         gmm_result.append(1)\n",
    "#     elif i == 0:\n",
    "#         gmm_result.append(2)\n",
    "#     elif i == 3:\n",
    "#         gmm_result.append(3)\n",
    "#     else:\n",
    "#         gmm_result.append(4)"
   ]
  },
  {
   "cell_type": "code",
   "execution_count": 10,
   "metadata": {},
   "outputs": [],
   "source": [
    "# Old code calculating spectral clustering accuracy for previous 500 numbers dataset\n",
    "# get_accuracy(spectral_labels)\n",
    "# print(sum(gmm_labels[300:400] == 0))\n",
    "# # 2-->0, 1-->1, 3-->2, 0-->3, 4-->4\n",
    "# spectral_result = []\n",
    "# for i in spectral_labels:\n",
    "#     if i == 2:\n",
    "#         spectral_result.append(0)\n",
    "#     elif i == 1:\n",
    "#         spectral_result.append(1)\n",
    "#     elif i == 3:\n",
    "#         spectral_result.append(2)\n",
    "#     elif i == 0:\n",
    "#         spectral_result.append(3)\n",
    "#     else:\n",
    "#         spectral_result.append(4)"
   ]
  },
  {
   "cell_type": "code",
   "execution_count": 11,
   "metadata": {},
   "outputs": [
    {
     "data": {
      "image/png": "[encoded data removed]",
      "text/plain": [
       "<Figure size 640x480 with 1 Axes>"
      ]
     },
     "metadata": {},
     "output_type": "display_data"
    }
   ],
   "source": [
    "import numpy as np\n",
    "from sklearn.decomposition import PCA\n",
    "import matplotlib.pyplot as plt\n",
    "\n",
    "pca = PCA(n_components=2) \n",
    "\n",
    "# Apply PCA on the similarity matrix\n",
    "principal_components = pca.fit_transform(similarity_matrix)\n",
    "\n",
    "# Get the PC1 and PC2 values\n",
    "pc1 = principal_components[:, 0]\n",
    "pc2 = principal_components[:, 1]\n",
    "\n",
    "plt.scatter(pc1, pc2)\n",
    "plt.xlabel('PC1')\n",
    "plt.ylabel('PC2')\n",
    "plt.title('Principal Components PC1 and PC2')\n",
    "plt.show()"
   ]
  },
  {
   "cell_type": "code",
   "execution_count": 12,
   "metadata": {},
   "outputs": [],
   "source": [
    "column_names = ['true_label', 'pc1', 'pc2', 'gmm_result', 'kmeans_result', 'spectral_result']\n",
    "data = pd.DataFrame(columns=column_names)\n",
    "data['true_label'] = true_label\n",
    "data['pc1'] = pc1\n",
    "data['pc2'] = pc2\n",
    "data['gmm_result'] = gmm_labels\n",
    "data['kmeans_result'] = kmeans_labels\n",
    "data['spectral_result'] = spectral_labels\n",
    "data.to_csv('bingo3c_result.csv', index=False)"
   ]
  }
 ],
 "metadata": {
  "kernelspec": {
   "display_name": "Python 3",
   "language": "python",
   "name": "python3"
  },
  "language_info": {
   "codemirror_mode": {
    "name": "ipython",
    "version": 3
   },
   "file_extension": ".py",
   "mimetype": "text/x-python",
   "name": "python",
   "nbconvert_exporter": "python",
   "pygments_lexer": "ipython3",
   "version": "3.8.5"
  },
  "orig_nbformat": 4
 },
 "nbformat": 4,
 "nbformat_minor": 2
}
