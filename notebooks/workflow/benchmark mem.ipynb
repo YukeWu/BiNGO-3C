{
 "cells": [
  {
   "cell_type": "code",
   "execution_count": 1,
   "metadata": {},
   "outputs": [
    {
     "name": "stdout",
     "output_type": "stream",
     "text": [
      "/home/mounim/PHD-Projects/BiNGO-3C/notebooks\n"
     ]
    }
   ],
   "source": [
    "from memory_profiler import profile\n",
    "import matplotlib.pyplot as plt\n",
    "import numpy as np\n",
    "import pandas as pd\n",
    "from matplotlib.pyplot import figure\n",
    "import seaborn as sns\n",
    "import random\n",
    "import sys\n",
    "from itertools import combinations\n",
    "import scipy.cluster.hierarchy as shc\n",
    "\n",
    "%cd ..\n",
    "from src import sw3c, evolution_simulator\n",
    "import time\n"
   ]
  },
  {
   "cell_type": "code",
   "execution_count": 2,
   "metadata": {},
   "outputs": [],
   "source": [
    "Benchmarking = []"
   ]
  },
  {
   "cell_type": "code",
   "execution_count": 3,
   "metadata": {},
   "outputs": [
    {
     "name": "stdout",
     "output_type": "stream",
     "text": [
      "0.0003275871276855469\n",
      "0.0008275508880615234\n",
      "0.008341312408447266\n",
      "0.1884918212890625\n"
     ]
    }
   ],
   "source": [
    "size, gap = 11,1\n",
    "d = 5 # delimiter size\n",
    "\n",
    "for L in [100,1000,10000,100000]:\n",
    "    # L = 100\n",
    "    S1 = evolution_simulator.generate_random_seq(L) #sequence of lenght L\n",
    "    evolution_simulator.to_fasta(S1,'S1', \"./data/Benchmarking/dataset/\") #sequence of lenght L\n",
    "\n",
    "    S2 = evolution_simulator.generate_random_seq(L) #sequence of lenght L\n",
    "    evolution_simulator.to_fasta(S2,'S2', \"./data/Benchmarking/dataset/\") #sequence of lenght L\n",
    "\n",
    "\n",
    "    start = time.time()\n",
    "\n",
    "    delim = sw3c.random_delimiter(d) #select delimiter\n",
    "    dictSeqs = sw3c.dict_of_seqs_from_file(\"./data/Benchmarking/dataset/S1.fasta\" ) #load from file\n",
    "    dicSubseqs = sw3c.dictSubSeq_from_dictSeq(dictSeqs, delim) #remake seqs using delim\n",
    "    dictKmers1 = sw3c.dictKmer_from_DictSubseq(dicSubseqs, size, gap) # make chunks\n",
    "\n",
    "    dictSeqs = sw3c.dict_of_seqs_from_file(\"./data/Benchmarking/dataset/S2.fasta\" ) #load from file\n",
    "    dicSubseqs = sw3c.dictSubSeq_from_dictSeq(dictSeqs, delim) #remake seqs using delim\n",
    "    dictKmers2 = sw3c.dictKmer_from_DictSubseq(dicSubseqs, size, gap) # make chunks\n",
    "\n",
    "    for i in dictKmers1.keys(): # S1: ref\n",
    "        for j in dictKmers2.keys(): # S2: target\n",
    "            INT = dictKmers1[i].intersection(dictKmers2[j])\n",
    "            UNI = dictKmers1[i].union(dictKmers2[j])\n",
    "            Score = len(INT) / len(UNI)\n",
    "\n",
    "\n",
    "    end = time.time()\n",
    "    print(end - start)\n",
    "\n",
    "    Benchmarking.append([' Size: '+str(size)+' gap'+str(gap), L, end - start])"
   ]
  },
  {
   "cell_type": "code",
   "execution_count": 4,
   "metadata": {},
   "outputs": [
    {
     "name": "stdout",
     "output_type": "stream",
     "text": [
      "0.01528787612915039\n",
      "0.00038123130798339844\n",
      "0.0026504993438720703\n",
      "0.05252265930175781\n"
     ]
    }
   ],
   "source": [
    "size, gap = 11,5\n",
    "d = 5 # delimiter size\n",
    "\n",
    "for L in [100,1000,10000,100000]:\n",
    "    # L = 100\n",
    "    S1 = evolution_simulator.generate_random_seq(L) #sequence of lenght L\n",
    "    evolution_simulator.to_fasta(S1,'S1', \"./data/Benchmarking/dataset/\") #sequence of lenght L\n",
    "\n",
    "    S2 = evolution_simulator.generate_random_seq(L) #sequence of lenght L\n",
    "    evolution_simulator.to_fasta(S2,'S2', \"./data/Benchmarking/dataset/\") #sequence of lenght L\n",
    "\n",
    "\n",
    "    start = time.time()\n",
    "\n",
    "    delim = sw3c.random_delimiter(d) #select delimiter\n",
    "    dictSeqs = sw3c.dict_of_seqs_from_file(\"./data/Benchmarking/dataset/S1.fasta\" ) #load from file\n",
    "    dicSubseqs = sw3c.dictSubSeq_from_dictSeq(dictSeqs, delim) #remake seqs using delim\n",
    "    dictKmers1 = sw3c.dictKmer_from_DictSubseq(dicSubseqs, size, gap) # make chunks\n",
    "\n",
    "    dictSeqs = sw3c.dict_of_seqs_from_file(\"./data/Benchmarking/dataset/S2.fasta\" ) #load from file\n",
    "    dicSubseqs = sw3c.dictSubSeq_from_dictSeq(dictSeqs, delim) #remake seqs using delim\n",
    "    dictKmers2 = sw3c.dictKmer_from_DictSubseq(dicSubseqs, size, gap) # make chunks\n",
    "\n",
    "    for i in dictKmers1.keys(): # S1: ref\n",
    "        for j in dictKmers2.keys(): # S2: target\n",
    "            INT = dictKmers1[i].intersection(dictKmers2[j])\n",
    "            UNI = dictKmers1[i].union(dictKmers2[j])\n",
    "            Score = len(INT) / len(UNI)\n",
    "\n",
    "    end = time.time()\n",
    "    print(end - start)\n",
    "\n",
    "    Benchmarking.append([' Size: '+str(size)+' gap'+str(gap), L, end - start])"
   ]
  },
  {
   "cell_type": "code",
   "execution_count": 5,
   "metadata": {},
   "outputs": [
    {
     "name": "stdout",
     "output_type": "stream",
     "text": [
      "0.0038051605224609375\n",
      "0.00045943260192871094\n",
      "0.001873016357421875\n",
      "0.023487091064453125\n"
     ]
    }
   ],
   "source": [
    "size, gap = 11,10\n",
    "d = 5 # delimiter size\n",
    "\n",
    "for L in [100,1000,10000,100000]:\n",
    "    # L = 100\n",
    "    S1 = evolution_simulator.generate_random_seq(L) #sequence of lenght L\n",
    "    evolution_simulator.to_fasta(S1,'S1', \"./data/Benchmarking/dataset/\") #sequence of lenght L\n",
    "\n",
    "    S2 = evolution_simulator.generate_random_seq(L) #sequence of lenght L\n",
    "    evolution_simulator.to_fasta(S2,'S2', \"./data/Benchmarking/dataset/\") #sequence of lenght L\n",
    "\n",
    "\n",
    "    start = time.time()\n",
    "\n",
    "    delim = sw3c.random_delimiter(d) #select delimiter\n",
    "    dictSeqs = sw3c.dict_of_seqs_from_file(\"./data/Benchmarking/dataset/S1.fasta\" ) #load from file\n",
    "    dicSubseqs = sw3c.dictSubSeq_from_dictSeq(dictSeqs, delim) #remake seqs using delim\n",
    "    dictKmers1 = sw3c.dictKmer_from_DictSubseq(dicSubseqs, size, gap) # make chunks\n",
    "\n",
    "    dictSeqs = sw3c.dict_of_seqs_from_file(\"./data/Benchmarking/dataset/S2.fasta\" ) #load from file\n",
    "    dicSubseqs = sw3c.dictSubSeq_from_dictSeq(dictSeqs, delim) #remake seqs using delim\n",
    "    dictKmers2 = sw3c.dictKmer_from_DictSubseq(dicSubseqs, size, gap) # make chunks\n",
    "\n",
    "    for i in dictKmers1.keys(): # S1: ref\n",
    "        for j in dictKmers2.keys(): # S2: target\n",
    "            INT = dictKmers1[i].intersection(dictKmers2[j])\n",
    "            UNI = dictKmers1[i].union(dictKmers2[j])\n",
    "            Score = len(INT) / len(UNI)\n",
    "\n",
    "    end = time.time()\n",
    "    print(end - start)\n",
    "\n",
    "    Benchmarking.append([' Size: '+str(size)+' gap'+str(gap), L, end - start])"
   ]
  },
  {
   "cell_type": "code",
   "execution_count": 6,
   "metadata": {},
   "outputs": [
    {
     "data": {
      "text/html": [
       "<div>\n",
       "<style scoped>\n",
       "    .dataframe tbody tr th:only-of-type {\n",
       "        vertical-align: middle;\n",
       "    }\n",
       "\n",
       "    .dataframe tbody tr th {\n",
       "        vertical-align: top;\n",
       "    }\n",
       "\n",
       "    .dataframe thead th {\n",
       "        text-align: right;\n",
       "    }\n",
       "</style>\n",
       "<table border=\"1\" class=\"dataframe\">\n",
       "  <thead>\n",
       "    <tr style=\"text-align: right;\">\n",
       "      <th></th>\n",
       "      <th>0</th>\n",
       "      <th>1</th>\n",
       "      <th>2</th>\n",
       "    </tr>\n",
       "  </thead>\n",
       "  <tbody>\n",
       "    <tr>\n",
       "      <th>0</th>\n",
       "      <td>Size: 11 gap1</td>\n",
       "      <td>100</td>\n",
       "      <td>0.000328</td>\n",
       "    </tr>\n",
       "    <tr>\n",
       "      <th>1</th>\n",
       "      <td>Size: 11 gap1</td>\n",
       "      <td>1000</td>\n",
       "      <td>0.000828</td>\n",
       "    </tr>\n",
       "    <tr>\n",
       "      <th>2</th>\n",
       "      <td>Size: 11 gap1</td>\n",
       "      <td>10000</td>\n",
       "      <td>0.008341</td>\n",
       "    </tr>\n",
       "    <tr>\n",
       "      <th>3</th>\n",
       "      <td>Size: 11 gap1</td>\n",
       "      <td>100000</td>\n",
       "      <td>0.188492</td>\n",
       "    </tr>\n",
       "    <tr>\n",
       "      <th>4</th>\n",
       "      <td>Size: 11 gap5</td>\n",
       "      <td>100</td>\n",
       "      <td>0.015288</td>\n",
       "    </tr>\n",
       "    <tr>\n",
       "      <th>5</th>\n",
       "      <td>Size: 11 gap5</td>\n",
       "      <td>1000</td>\n",
       "      <td>0.000381</td>\n",
       "    </tr>\n",
       "    <tr>\n",
       "      <th>6</th>\n",
       "      <td>Size: 11 gap5</td>\n",
       "      <td>10000</td>\n",
       "      <td>0.002650</td>\n",
       "    </tr>\n",
       "    <tr>\n",
       "      <th>7</th>\n",
       "      <td>Size: 11 gap5</td>\n",
       "      <td>100000</td>\n",
       "      <td>0.052523</td>\n",
       "    </tr>\n",
       "    <tr>\n",
       "      <th>8</th>\n",
       "      <td>Size: 11 gap10</td>\n",
       "      <td>100</td>\n",
       "      <td>0.003805</td>\n",
       "    </tr>\n",
       "    <tr>\n",
       "      <th>9</th>\n",
       "      <td>Size: 11 gap10</td>\n",
       "      <td>1000</td>\n",
       "      <td>0.000459</td>\n",
       "    </tr>\n",
       "    <tr>\n",
       "      <th>10</th>\n",
       "      <td>Size: 11 gap10</td>\n",
       "      <td>10000</td>\n",
       "      <td>0.001873</td>\n",
       "    </tr>\n",
       "    <tr>\n",
       "      <th>11</th>\n",
       "      <td>Size: 11 gap10</td>\n",
       "      <td>100000</td>\n",
       "      <td>0.023487</td>\n",
       "    </tr>\n",
       "  </tbody>\n",
       "</table>\n",
       "</div>"
      ],
      "text/plain": [
       "                  0       1         2\n",
       "0     Size: 11 gap1     100  0.000328\n",
       "1     Size: 11 gap1    1000  0.000828\n",
       "2     Size: 11 gap1   10000  0.008341\n",
       "3     Size: 11 gap1  100000  0.188492\n",
       "4     Size: 11 gap5     100  0.015288\n",
       "5     Size: 11 gap5    1000  0.000381\n",
       "6     Size: 11 gap5   10000  0.002650\n",
       "7     Size: 11 gap5  100000  0.052523\n",
       "8    Size: 11 gap10     100  0.003805\n",
       "9    Size: 11 gap10    1000  0.000459\n",
       "10   Size: 11 gap10   10000  0.001873\n",
       "11   Size: 11 gap10  100000  0.023487"
      ]
     },
     "execution_count": 6,
     "metadata": {},
     "output_type": "execute_result"
    }
   ],
   "source": [
    "pd.DataFrame(Benchmarking)"
   ]
  },
  {
   "cell_type": "code",
   "execution_count": 7,
   "metadata": {},
   "outputs": [],
   "source": [
    "import os"
   ]
  },
  {
   "cell_type": "code",
   "execution_count": 8,
   "metadata": {},
   "outputs": [
    {
     "name": "stdout",
     "output_type": "stream",
     "text": [
      "0.062090396881103516\n"
     ]
    },
    {
     "name": "stderr",
     "output_type": "stream",
     "text": [
      "outputhat23=16\n",
      "treein = 0\n",
      "compacttree = 0\n",
      "Warning: Only 0 sequence found.\n",
      "minimumweight = 0.000010\n",
      "autosubalignment = 0.000000\n",
      "nthread = 0\n",
      "randomseed = 0\n",
      "blosum 62 / kimura 200\n",
      "poffset = 0\n",
      "niter = 16\n",
      "sueff_global = 0.100000\n",
      "nadd = 16\n",
      "Warning: Only 0 sequence found.\n",
      "\n",
      "Strategy:\n",
      " L-INS-i (Probably most accurate, very slow)\n",
      " Iterative refinement method (<16) with LOCAL pairwise alignment information\n",
      "\n",
      "If unsure which option to use, try 'mafft --auto input > output'.\n",
      "For more information, see 'mafft --help', 'mafft --man' and the mafft page.\n",
      "\n",
      "The default gap scoring scheme has been changed in version 7.110 (2013 Oct).\n",
      "It tends to insert more gaps into gap-rich regions than previous versions.\n",
      "To disable this change, add the --leavegappyregion option.\n",
      "\n",
      "outputhat23=16\n",
      "treein = 0\n",
      "compacttree = 0\n",
      "Warning: Only 1 sequence found.\n",
      "minimumweight = 0.000010\n",
      "autosubalignment = 0.000000\n",
      "nthread = 0\n",
      "randomseed = 0\n",
      "blosum 62 / kimura 200\n",
      "poffset = 0\n",
      "niter = 16\n",
      "sueff_global = 0.100000\n",
      "nadd = 16\n",
      "Warning: Only 1 sequence found.\n",
      "\n",
      "Strategy:\n",
      " L-INS-i (Probably most accurate, very slow)\n",
      " Iterative refinement method (<16) with LOCAL pairwise alignment information\n",
      "\n",
      "If unsure which option to use, try 'mafft --auto input > output'.\n",
      "For more information, see 'mafft --help', 'mafft --man' and the mafft page.\n",
      "\n",
      "The default gap scoring scheme has been changed in version 7.110 (2013 Oct).\n",
      "It tends to insert more gaps into gap-rich regions than previous versions.\n",
      "To disable this change, add the --leavegappyregion option.\n",
      "\n",
      "outputhat23=16\n",
      "treein = 0\n",
      "compacttree = 0\n",
      "Warning: Only 1 sequence found.\n",
      "minimumweight = 0.000010\n",
      "autosubalignment = 0.000000\n",
      "nthread = 0\n",
      "randomseed = 0\n",
      "blosum 62 / kimura 200\n",
      "poffset = 0\n",
      "niter = 16\n",
      "sueff_global = 0.100000\n",
      "nadd = 16\n",
      "Warning: Only 1 sequence found.\n",
      "\n",
      "Strategy:\n",
      " L-INS-i (Probably most accurate, very slow)\n",
      " Iterative refinement method (<16) with LOCAL pairwise alignment information\n",
      "\n",
      "If unsure which option to use, try 'mafft --auto input > output'.\n",
      "For more information, see 'mafft --help', 'mafft --man' and the mafft page.\n",
      "\n",
      "The default gap scoring scheme has been changed in version 7.110 (2013 Oct).\n",
      "It tends to insert more gaps into gap-rich regions than previous versions.\n",
      "To disable this change, add the --leavegappyregion option.\n",
      "\n"
     ]
    },
    {
     "name": "stdout",
     "output_type": "stream",
     "text": [
      "0.057988882064819336\n",
      "0.06059980392456055\n",
      "0.06734895706176758\n"
     ]
    },
    {
     "name": "stderr",
     "output_type": "stream",
     "text": [
      "outputhat23=16\n",
      "treein = 0\n",
      "compacttree = 0\n",
      "Warning: Only 1 sequence found.\n",
      "minimumweight = 0.000010\n",
      "autosubalignment = 0.000000\n",
      "nthread = 0\n",
      "randomseed = 0\n",
      "blosum 62 / kimura 200\n",
      "poffset = 0\n",
      "niter = 16\n",
      "sueff_global = 0.100000\n",
      "nadd = 16\n",
      "Warning: Only 1 sequence found.\n",
      "\n",
      "Strategy:\n",
      " L-INS-i (Probably most accurate, very slow)\n",
      " Iterative refinement method (<16) with LOCAL pairwise alignment information\n",
      "\n",
      "If unsure which option to use, try 'mafft --auto input > output'.\n",
      "For more information, see 'mafft --help', 'mafft --man' and the mafft page.\n",
      "\n",
      "The default gap scoring scheme has been changed in version 7.110 (2013 Oct).\n",
      "It tends to insert more gaps into gap-rich regions than previous versions.\n",
      "To disable this change, add the --leavegappyregion option.\n",
      "\n"
     ]
    }
   ],
   "source": [
    "for L in [100,1000,10000,100000]:\n",
    "    # L = 100\n",
    "    S1 = evolution_simulator.generate_random_seq(L) #sequence of lenght L\n",
    "    S2 = evolution_simulator.generate_random_seq(L) #sequence of lenght L\n",
    "    sequences_filename = \"./data/Benchmarking/dataset/sequences.fasta\"\n",
    "    outfile = open(sequences_filename, 'w+')\n",
    "    outfile.write('> s1')\n",
    "    outfile.write(S1)\n",
    "    outfile.write('> s2')\n",
    "    outfile.write(S2)\n",
    "\n",
    "    start = time.time()\n",
    "\n",
    "    os.system(\"mafft --auto \"+ sequences_filename + ' > outfile')  \n",
    "\n",
    "    end = time.time()\n",
    "    print(end - start)\n",
    "\n",
    "    Benchmarking.append(['MAFFT ', L, end - start])"
   ]
  },
  {
   "cell_type": "code",
   "execution_count": 9,
   "metadata": {},
   "outputs": [
    {
     "name": "stderr",
     "output_type": "stream",
     "text": [
      "\n",
      "\n",
      "ERROR: No sequences in file. No alignment!\n",
      "\n",
      "\n"
     ]
    },
    {
     "name": "stdout",
     "output_type": "stream",
     "text": [
      "TCCCGTCTTCTAACACTAAGCCCCAGGAGGTTCCCCACACATTTCACGGTATTAAAGCGTCGTACTAAGGTATCTAGGGCGACCGGGCAGGGGACTGATT\n",
      "0.0018694400787353516\n",
      "GGAAAGCATTCAAATTTTCTAGGTCCCTAGAATCAGACGCCCGGTACAGAAAGCAGACGGCTGCGCCAGTACGCGTTACGTTACATGATTTAAGAAAGCCCCGGCCTTTATAGAGTAGTCTGAATATTCCCAGCGGTTCCTGTCAAGCTTACGGTATAGGCGCCCAGTCCAATCTGTCGGTTCGCGAGGAAATTTCATTGGTATGTAATAGTGACCCGTCAAGTTTATCGCCAATGACTCACGACCCCGCTATCATAGACGGGTTCTCAGGGGGGAAGCGCCTAGAACATATCGCCACTGGTTCTGCCGGACGTAAGACTCCCTTCAAAACTTGAAAACGCATGTGAAATGAATATTAGGGTGCAAAGGTCACACTTCTTACCGATGTAGGAGACGAAAATCCACAGTAACGCTCTTTCAGTGACGTGTCTCCGGGTAGGAAATCGTAGCAACTCGGCTTCGATTCGCAGTTGATCGAATAAGAGCAACAACAAAAGGAGACCGGCCCTGGACGCCAGTAACACTGAACTCTGAGTGTACTATGGGCAGGAACATGCACACTCTACAAACACGGTGTTGCAGACGCACATTGGGTCACTTAGGTCCCGCCTTAGTGACCCCTCAGACTTTAAATCTTAAGGCAAGCAGCACAAAATGACCTTTTCACCCCGAATGCGTGGCCGTTGTTTCTGAGATTTGACCACTATGTCTGTCCGCACCAAGTCAGTTAATCCTCTTAGGCTGTGCGGTCTACTAGCTGCCTACGGGGTAATACTTTAGCACTGACTGAGAGCACATACAAAAGGGCCCATGAAGCCCCAGGCACCTAACTATGCATCTGGCCTTACGCCGCACATGCTTGATAAATGACCTTCGTCGACCAAAGGGCACTGAGATTTGTATTGGTTGTGAGACGTCCACATCACCTCGGGAAATTACGCCCGCCCACAGTACTGTACACTTGTGTAGTTTCAGGGCCACCGACCTGATTACCCAATGA\n",
      "0.0026862621307373047\n",
      "ATATCTTTGACGGTTGACCGGCTTTCCCATCCCTCAAAACGGTTATTTACTTACCGTCCCACTAGATTGCCCGGGAGGTCCGTGTCAGGTATCGTGTTGTGTTCCGTCGTGGTCTCCCTAACACATTTGCACCTCGAGGTCTTACGGGTCATTACACCGTCTATGGCCTTGTCCGATCCGTTCATATACTGGCCGACCGCGTCCCAAAGGGAGTGCTGATGCTTTAAAATCTCGTCGGAGGGCCGATTCACATCCCGACGGTGGCATTTAACATAGGTTCCGTTCGATGGTGTCACGGGGCGTCGGGAATATGGACACAGACGAGTACTTTTCGCGGCGGGACGCGCTAGACTCACCCATTTAACTTGTACGTACCATTGTTGAAATGAGACATACTAAGGGGGACGATTACCTTGCGTCCCCCCATTGAACTCCCGTGTGGCATCATAGAGGGGAAAGTCGACGGGCTCGATCCATCACTGGCGTAGACTTGACTTGCTTATGACTTACGCGATGCACCATCCAACTTAGCCCAAGCACCCGACGCTCACGACTCATTTGTAGCTACATGAGAATTTGAAGGGAATATTGTGAATCTAACGCCCCACCGCGAACCACATGTACTGTTCCTACAAAACTTTTTGTTGGCATTTCACAGATGCCCACCATAGGGACCATAACTGACGGCCGCTGATCGGTAGAAAGCTCTTCGATCTAACCACTCACGGAGGAATATAGCTCATCCGGAAGTCCATTACGAGCGATCCGACCAGTTACAGGCCATCGCATACCTTAGCACTCGGTAACACTGCGACGTATTTTGCACCCCCAGCCCAGCGGCTCGACGGGCAGGTCCCGGAATATGGGAGCGACACGGCGGCCGAGAGACGAGAGGTCTGTAGTTACCTACGGGCGAGTAAGGTGTAGCACCAGCATTCTACGCCCAGGCCTGAAGCCCTTTGAGCACTGACAAGCATAAGTGCCATGCGCCTAAGTTTCATGGTCACTCACATTACCACCGTACGCCCAATGCTTCAGACAGTGGGGACCAGAGACATAGACTTCCGTCCGCAGACACAGCTTAGCGTCCTCGAAGAAAAGGCTGCGACTGACATCACCTCTTCATCTTTACGCTAACCTCATTGTCAAACTGTTCAGCATAACAATTCATGTTCTATGCAGGGTAAAATACATTGTACAGGTCCGCGTTTCGTCCCGGCAAGAGACTCTGCTTTTCATGAGAGCCATGCGTGGTACAGCTGCGGTGGCCACGGATTTGTGTTGAGAAGAGGCCATTAGCGACTCTCTGCTGAATTGATTCGAGTATTAATATCGTTCAAATGCAGAGGGAGGAGGGCTGGTCCGAGACTACCCCCGTACACTCATAGTGGAGGCTAACTTGAACAACCAGCCCACGGGGCAACAACAAGGAGTATTATTAGACCGTGTGGGTGGGTTTCGACAATTAGTCGCTCCCGTCAGCCGTGCTGAGACTCGCGCTCACGGTACCTGATGCAAGAACACGGGCGGGTATCATGTTACGCTTTTACTGGGAGGATCAGTCTTGGTGGGAGAAAACGTGGGACTAGAAGTGCGCTGAACAAGCCCTCCGCGTTGTTGTACATGTTGACCGGTATTGTAGACAGGCTACTCGGGCTCCACTTAGTAAGTCCATTTCACTCTGTAATACGACAAGTCTAAACGGTTTACTCGGTGGACTATCCGGTCGCACCGATGTCGGGAGTATCATGCGGGCCCGCAGACCTCGCGATTAGGGGGCGGTAGTTGCTAGACTCGATCAAAATTTCTAACGATGGATCTCACCGCACTAGCTTGAGGCAGCGCCCCGAACGTTGTGCATTGGCAGCTGCTGGTATGGTGGCACGGGTTTTTAGTTCCGGCTGAGTCATAGTGTTATAGGTTTCCCGCCTGAAGGGGTCGTCCTTTACCGCGTATCGGGTCTGATCTTCCACCGTCGGGACTCAAGCCCCTTATATTTATAACGTAACAAGTGCGTAGTTTCTCGAAGGGGTCGATTTGGAAGCAACCAAAGCACTGAATAGTTTGTATTTAGCAAAAGTGATACACCCCGGAATTTCGGGCATCTTAGGAATAGGGATGCATGTGCGCTTTACCCCATAACGTTTTAGTCGCAAATGCCAAACGACAATGCGAATTTATTCCTGACACTAGCAACGCGCGCAGCCCTCGAATGCAGTGAACGTGGTATCGGATTCTGCGGTACACACAATGGATGCCTCGTTCTGCTCATATGAGTAGTTCATTACGAACTGCCGCGTTACACGATGCCCCCCCTGCATACGTTATGTTCATGCGGCCATCTCTCAGCTTTGGATAAAAGCCCACCACTCACGGGTCCCCGCAACTCCTCTATGTATCCAAGAAACCGAAGTCTTGTCACCCCTCGGATAACTTGGCGATGACTTCACGGACGCACCTGAATGCTTAAAACGACTGCCGGTAGTCATGCTCAATAGAGTACCGGAGTGGTCGGAGGCAGTTCCTAGCCTGAAGATATGGCTACTGTGTGATAGATCTTTATAATTAGATCTGTAGCTAGTGTTTTTTGCCGCTCGTGACTTGGACACTTCCGTCTGAGCACCCCTGCACTAAGTCTTGACCGTCAACTGGTCTACCAATTTACAGAGCATACGTATGACGAGAGCAAACGCCACACGATATACTTCCGAGCACGACACACAGGAAGGGACTTGTTATGCTACACTGGACACCCCAAGGTGCTAATGTATACCGATTTTCGTGACTGCATTGACAATGCATGGTCATTGGCTCGGGTTTTTTTCTGTAACTTTAGACGATGGGATACCAGGCCAGTTACCATGTCAACCCGTTATAATGGTTCCGATTCGGGTACTTGACGGTTAGTCACACACTCGATTGAGACAGCTCGACAGTAAGGGTCACAGCAGTAAATCTGCCACCCTGTCATTTTTGTAAGACATCCCGTTGAGCGTCTCTAACATAAAGCAAAAGTCCCAGCTCCGGGGTAATATTGAACGAGGTACAGTCCTAGGATACAGTGATTCTAATCACCCGGCTCCCAGGTTTACCTACACTTTCGATCGTTTGCCTATCCATGGGTTCTGCATCGTAGCACCACCGAATGTCGGGGTGGTCCCGGAGAGAGGCGTGTGTGGTGTCATTTAATTAGAAGTAAGTAAGCTGCATGTAACTAATCCGACATAAACTACGAAGTCCGTAAATAATCACTAGTCCAGTGGAACACAATGTAGGTTGACCCATACGGCCCACTGACTAACTGACCAACATAATCCTGTCTGTAGGGCCCCCTGATCGGGGCATTTCGCAGTGTGCCCCGCACTTCCGAAGTCCACAATTACAGGATAGGGGCCCCTGATCGCAGAAATACTATGTCTGACATTTAGTGACTCAATTGTCTCTACCACTAGATGACGAACGCTAACGTCCGCAACTACCATTGCTTCGACCAAGCTTCTGGCAGGTTCCCTTCGGCTTGGGTCCGTCGGCGAATCATTTCATTGTTGCGGGACCCGAGCTAATCCCCTTGGTATCGGAAAGCAAATGGATCCAAAGCATTGGGGTCATTTAATATCGGTGTTCGGAATCTTAGGGAAACCCGTTGCTTAGCTACAATGTTGAGAGTCCGGGTCTGGTTTGCGCTGCTCCCTTTTGAGGCCTAACGTCGAGGGCGGAACTTATCTTATTCGCAGATTTACAATATCCAAACGGCATACTAGTCGACGGCCCGGCACCCTTTTGGATCTCCATCACAAGCCATTTCCGGTAGCGAAAATCAGCGTGCTAAATCTGCCCCTATGACGACACTTTGACCCGTATATCCTAGCCGCAAATCACGCATTGCAAAGAGCTATGACCAGAAGAGGCGGCATCATGGATGCAGCCAGACCGTGCGCCCTTGTAAACATTATACTTAGGATAGTCTGCGCACGAGATACCCCAGATCGTCCAGCTGAGAGCAATCCCCAAGTCTTTAACAAACAGCTGCTGATGAAACCAAATTATGTTAGAAATCATACTAGTGAGATCTTGTCATTTCGTGGGCAAATGTGCTACGTTGAGCTTATCGTCCGATCAATGGCCAAGTGTTAAAAACTGGGCCCAGTTTTAGGAGTCCGGCGAGGAGGGGACGCGTACTCGCTCATATTGCCAGCGATATGTATCTAAGATCTTATCCCACAGCCCCCTAGCAAGCTTTGCGGCCCACCAAAGACTTATTGAATGCGCACAATAAAATGGGGGAGCTCTGTGTGAATCATGGGGTGGGTCCCTGCCGAGGAACGCGGAACCGGTGCCATGACGTCGGAGTGAGAAATTATCGTCGGAATTACCCCGTTGAACATAAGGAGCCCCTGGGGCCCATACGGGCATCTACTATTGAGTCGTTTCCCTGAAGATACGGTTATCGTATAATAGGGTTTTACCATTGGGGTACCTCAATAACAGACATCGACTTGGTACGCGTTCTGGGGTCATTCAGCCCGGTGCGCAAAACTCTCCGCTTCTGGCAAGGCGCTGGGAGCGGACCGGTGGGGGATAAAAGTGTCTCCCCGTAGGAGTAAGGCGAGTTCGTACACCGTCCGGGGGGGCACCGATCGTTCACCCCGAGGGATTTTAACTCAAGTTCGGATACCTGCGCCGCATCTGCCAACGTTGAGAGGTGTCCACCATGCACAGAGACAATTTCTGGAGGGTGAGACAGTAATCACGTTGCCAGTTATTGCTGGCTACTGACCCGCTAGTCTCCGTTACTATCGACACGATGAGTGCGCTCGTGTTCCCGCACTCCTCTGAACCTTCAATGGGAGTATGTCTGCTCCATAGTCAGTTGCTGCCGGATGGAAGGTCGAAGGCTTAACTTCAAGTAATGCCTCTCAAGGGGGGCTTTGACCTGTGGTCCTGGGAGAAGTCTCCAAGTTGGGCAGCCAGTTGTCGACGTACTTGGTCTCCTACTGCGATGACGCGACTGGCCTTCTTGGTTCGATTGCGCGTCGCTGCCAAACTGAAGGTTGACATGTCAACAGCGAGATGATGCCTTTCTCTAGTTTCGCCGCCTCATACTTATTAAGAATCTATGGCCTTGGCGCCGTCCTTTCCTAGTGCTAGAGGCGACACGAACTTTAAGTGCTGTAGGCGGAAACTCCTGCCGAGAAAGAGCCCTGTCCATGCTGCGACGTTAACTGACTAAAGTCGTTTAGAGACGTTATGCAAACTTACTGTGACCTAAGGCTCGCCAAACCTAAGTCACCACTGATCTACGATCCTATTACCTATCCCGGAATGGCGGAGATCACAAAACTTGTGCTAACGTTAGGGACTCACTGGCTAAGTTGTGTTCATCACGGTCCTGCTCTGTTATTCGGTGAGCCCGCCGTGATCAGCGGAGTCCTCCTTGATCGTGTCGTGCTCTGCTAGGCTGCAGTCGCGGGCTACTAGCGGAGGATCTCGAATTTAACCCCGGCCACCAGCTGTGGTTGAAAATGTGAAAGTATGGGGAGGATCCCTTTACACCCCTGAAAGCCTTCTTAGGAATACCGCAGTGAGGGAGGGCTCAAGATCCCTTATTGTTTTCACCTAAATGTAGACGATCCTTTACGGCACCACCCATTCATGATCCGTTTTTATCTCGGACCTTAAAGGGTGCAGATTCATGGATGTATATAGGAAGTTTAAACATTCGTTACATAGACATTATCTATTTCACAGCGTCGCCTTCTCGATTCTCCGTAGTAGGCGTTTCGGGGGTGATTGCGGTAACTGAACACGAGGTCGTAGGGTGGCATTATGAGGATTGAGAAACACGTTGCCTGAGACCCGATTTTGCGAGAATGGGGGAGTGCTCAACTAGGATAATGTCGATTAGGGACTCGCACGCGTACCGTGGAGATCTCTATACAGATTCGTGTACCGGCGGGTTGAAGCACGTGACGCAGGCCACGGCGTTTCTCGGAGTTGAGTAGCCGGGCTTCTCACGTCAGGAGAACGGAGGAATTGGGCCTCGCGCTGGCACGAGTAATACAGCTCAAATCCAATTCTGAGATCACCACGACTGCGAAACTAGTACATAAACCCCATGGAGTGACCCATTCTTGTGAAAGAATTTGAAATGGCCGTGGCATTCAACTGGGATGAGTACAAGTCTCAGTTACGCATGCCTCGGTGAACTTCAGGTACGTAAAACTATATATTTCCGATCCTTTTGAACCAGAATAATAACGCCTGGTGATCTCTAACCCGTCACTTTTCCAGATCAAGTTACGGAGAAACGTTTTTCCAGTTCATCCCGTACCTTATCTTACTGGCCAACGGACTCAGGACAGCGCGCACGGAAGCCGTACAGGTTTATCTGCCTAACACAGTAGGACTTAAATCGGGATGGACACGAGCTGTGTCGAACTTAATCTCGAGTTGTTAAGTTCTAACACCCTCCAGCTTCGTGTTGACGGCACACGCCTCCGCATGGTCTGAGTTCCGTAGGATGCCTAAATGACTATTGGATTACAACTGTTCCGATATAGCGACAATGGCAAGCAGGTCAGAACTTGGTAGGGTCCGTCTACATCTAGTTTCGTCCGGCCCACGTCGGTATGTCTGTCGAGGCTCGACAAACAGACAGATTCAGCACCGACCATGGCGCAGTCGTCCAGGGGGTAGCTGACTTGACAGGCCATAGATAATCCAGCCTTAACTGCTGGTTAACACCGGACTATCCGCCCTTCGACGGGCACAGTCGTCTTCGTCAAACCTTTACTGCTGAGTTGACGTAAAAGGAGGAATCACCCCTAGGCGCGCTTCATGCATAATGAATTATAAGTTTTTACCAAGGTACTCTGCGTGCGTAAGTAATTGAGGTCGCGATGCTAAAAAAAAGCCCAATCCGCCTAAACCTGCCAAATCCAACAACGTATGTGACTAGGTTGTGGAACCCCGGTGTTGGCACACCGATTAAGGGGGAACTACCTGGAGTGTATAGCGTACGCCTGAAAAAACGAGCCTCCGCGCTCAACACGCAATCGGGCGACAGTGAAGCGTAACCAGCAACAGGTCTCCTAACATGTCTAAATATATTGGGTCCCAATTTGGAACGGCAAGGGGACGAGCATTTCAACCAAAGGTCGTGGTCGGATCTTAGAGTACGAAGCTGTCGAGAGAGGACCGGCGCAATACATTGTTCTTGGATCTCCCTAGTCCAATCTCTTCCGTTATCGGAGGGTCACTAGCAATAGTGGTCGACTCGCCTCTCACGAAAGAGGTAAATCGCCTACCTGTTAGGCGCCAGGGGTAGACGCACAAGCACGAATTAATAAGGGCCCAGCCCTCTCTGATCCTATTCCTTGTAAGCAGTCCCGGCTTCTAATTCACTTCTGATCTCAACAGTCGCCTAATCGAAGTAGGAAAAATGCTGACGACTCCACAGTCGGAACCAGGTAGCTGCACACGATCCTTTTCAATGCACAATTACGATCCGACCTGCCCCGCGGCCGAAGGAAACAGATCGACGGCAACGTACAAACCAGCGATCGGGTACGTCGTGGATACAGGTTCTGTATTTCAACGGGTGAACAGCTCTTGATATTATAATCGGCGCTTCACCCCAGGTGCGAGAGATATCTTGAGGCCCACAGCGAGTCGCTGTGTAAATCCTTCTGAATCGCGCATGAAGGGGTCCCCAAGACCTACTACGGGAGGGACAACTCTACCATGTCGCTTGGACCATGTACACGGGGGGGAAAAGCTGCTCGCCAAGCTTGCGTACCCTGGGTTAATTCGAATTTCCGTCGACAGAACGAGGCCGCCCCTGGTTGAGGGGCCGGGATCAAAAGGTGGCCTGACATGGTGTGCTGAGGGCCTGGGTCAAAGCCGGGATGCTTCCCTCAAAACGTCGGAACCCGAGCACCTCAAGACAGCATAAGGCATCTAAAGTTAAGGTATGCACAAAGCTCCTTACTCCGCAGCGGCGGCTTCTAGTAACCGGGTCAAGACTCAGAGTGTCTAGACACTTCGTCTATGGTGCTTTGGTCCGCGTTGAGACTCGTAAGCTGGTCCCGACAGGAATGCAACCTTGTAAAGTACCTAAAGAATTACTGTCCCCACGGAAATAAATTCTCACGGAAGCTCTAATCGTGTATGATGAATACTTACATATCAATTGTCACGAAGCGAGTTGTCCCGCACTAGTCGGTGTTAGTCCGACGCACCTTACCGATGTCTTAGGTAGTAGTGTGGGCGGGGGACATCCGCACGATCCCTTCCTGGAGAGTCTTCCTGTGGTGCAAAACCACCCGGGGTTCATATCAAACGCTGTGGGCAGTCCGTATCGAATTACCTCACAATGGTTGCGCGCGGGCGGACCTTCCGTGTCGGCATGTATAAGCGGAGTTTAATGAATCTGGGCGGGAGCGTGAAAATTTGTCGTTATTGCTCGGGAGGAAGCAGCCGGCATCTGCTTACCGTCGTTCCGGTGACAGGCAGGGGGCTAAATTCTAACGCTCCGTTTTCTGCGAGACTTATTGGATGGCCAGCGGGGAGGCGAGCAAGCCAACAGTCGTGCCGATTAAGATTATGCCTGAATACATATGAATCTTCCTCAAGGGATAGACTCCGAAATAGCCCAGCAGCCTCGGGCCGAGCATTGTTGATCGTTCACAATGTCGCGACAACGACTAGGGGCTGGACTGGAGTCAAGCCGCCTGCGTAGGGCGTCAGAGAGGGGACTGTCGCTAGTCTAATCGCTATTTCGAAGCCGACTGTAGGGCCCTTCCTCTTGGCACAGGCGCAGATGGCTCACAGTCGTCGCTGTATATTGAATTGAGATTCAGCCGGGATTATCTTATTACTATGCTTTTACCCTCACGTTCGTCGGCCTAATGAAGACCAGTTTTGAGTTGTGAACGCTCTAGCGTCAGAACCCTACCGAGACCCATGACCTCATAGATTTGAGGCGATTGCGAGCACAATAAGGTTTTACACGGTGAAAGAAACGAGACTCGCAGTAACAGCACTGGAAAATGCTGTACGCCCCCAACGACTGGATCTTCTCTTTCAAAATCAAGTTTCTGAAGCGCTTATTCCCGTCAGTAGTGGGGGTGAACTTACTATCTCAATGTGCCGTGGTCGACACATGAGCGAGATGAATAGCAGTGTTGTAATGCCGGAATTCCTGAAGAAGGCTACTACAATGAGCACAGGTAAAGGCGAGCCACAGCTTGGACCAACGCACTTGGCCCAAGTTGGGGCCGGGCGAAATGGATATTAATGCAGCTTTAGGCTGACACGAGCCCTGAGGCTTTGGGTACCTTTAACGACATTCAAGGGTAGGAGTAATCTGCTTAAATCGGAGTACTCTAGGACTAGCGTCGTTACCATTACAGAACGGCGACCCTCTATCCCCGAAGACCCAGTCCAAGGGACCGTGGTATCTCGTTTAGCGAAGTCTTGTCGGCTGGCTTCCCATCCTTGAACGGTCTGCCCAGTTATAAAAACATGCGAATTTTGCCTTCAGCCCTTTCGGCGTGTCAGAACGACGGGATCTATAATCGACACGGACCGGACTCGATCTTCCGCTTCCAAGGGTCAATGAGATTGATCAGCCCACTAGCGCCGCCTACCCTCGCAATTAATTTATGGTGGTTACCATAATAATCCGTATTGCAAAGTTAATTTCTTTCTCTGCGTGGACCAAGTTTGTTACAGAGACTTGCGTCAATAGTGAGGATTAACTTGAAAACGAGTAAAGAATACTGTCGGTCCTAAACGATAGTTCCATACTGGAGGTACAAATCTCATAGGCTCTGAAATGCCTGAGAGAAGTTAAGTGTATACACCTAAGCGGCCCTGTGCAATTTGCAGGCCGAGTGACAGGACGGGAGGAATACGCCGGGTCATTCCATAGTTGGCCGTCAACGTCCGGGATCGCAAAAACCAACTTGCCATACAAGATGCAGATCCAGGTTGGACC\n",
      "4.001683473587036\n"
     ]
    }
   ],
   "source": [
    "for L in [100,1000,10000]:\n",
    "    # L = 100\n",
    "    S1 = evolution_simulator.generate_random_seq(L) #sequence of lenght L\n",
    "    S2 = evolution_simulator.generate_random_seq(L) #sequence of lenght L\n",
    "    sequences_filename = \"./data/Benchmarking/dataset/sequences.fasta\"\n",
    "    outfile = open(sequences_filename, 'w+')\n",
    "    outfile.write('> s1 \\n')\n",
    "    outfile.write(S1)\n",
    "    print(S1)\n",
    "    outfile.write(' \\n> s2 \\n')\n",
    "    outfile.write(S2)\n",
    "\n",
    "    start = time.time()\n",
    "\n",
    "    os.system(\"clustalw \"+ sequences_filename + ' > outfile')  \n",
    "\n",
    "    end = time.time()\n",
    "    print(end - start)\n",
    "\n",
    "    Benchmarking.append(['CLUSTAL-W ', L, end - start])"
   ]
  },
  {
   "cell_type": "code",
   "execution_count": 10,
   "metadata": {},
   "outputs": [
    {
     "data": {
      "text/html": [
       "<div>\n",
       "<style scoped>\n",
       "    .dataframe tbody tr th:only-of-type {\n",
       "        vertical-align: middle;\n",
       "    }\n",
       "\n",
       "    .dataframe tbody tr th {\n",
       "        vertical-align: top;\n",
       "    }\n",
       "\n",
       "    .dataframe thead th {\n",
       "        text-align: right;\n",
       "    }\n",
       "</style>\n",
       "<table border=\"1\" class=\"dataframe\">\n",
       "  <thead>\n",
       "    <tr style=\"text-align: right;\">\n",
       "      <th></th>\n",
       "      <th>0</th>\n",
       "      <th>1</th>\n",
       "      <th>2</th>\n",
       "    </tr>\n",
       "  </thead>\n",
       "  <tbody>\n",
       "    <tr>\n",
       "      <th>0</th>\n",
       "      <td>Size: 11 gap1</td>\n",
       "      <td>100</td>\n",
       "      <td>0.000328</td>\n",
       "    </tr>\n",
       "    <tr>\n",
       "      <th>1</th>\n",
       "      <td>Size: 11 gap1</td>\n",
       "      <td>1000</td>\n",
       "      <td>0.000828</td>\n",
       "    </tr>\n",
       "    <tr>\n",
       "      <th>2</th>\n",
       "      <td>Size: 11 gap1</td>\n",
       "      <td>10000</td>\n",
       "      <td>0.008341</td>\n",
       "    </tr>\n",
       "    <tr>\n",
       "      <th>3</th>\n",
       "      <td>Size: 11 gap1</td>\n",
       "      <td>100000</td>\n",
       "      <td>0.188492</td>\n",
       "    </tr>\n",
       "    <tr>\n",
       "      <th>4</th>\n",
       "      <td>Size: 11 gap5</td>\n",
       "      <td>100</td>\n",
       "      <td>0.015288</td>\n",
       "    </tr>\n",
       "    <tr>\n",
       "      <th>5</th>\n",
       "      <td>Size: 11 gap5</td>\n",
       "      <td>1000</td>\n",
       "      <td>0.000381</td>\n",
       "    </tr>\n",
       "    <tr>\n",
       "      <th>6</th>\n",
       "      <td>Size: 11 gap5</td>\n",
       "      <td>10000</td>\n",
       "      <td>0.002650</td>\n",
       "    </tr>\n",
       "    <tr>\n",
       "      <th>7</th>\n",
       "      <td>Size: 11 gap5</td>\n",
       "      <td>100000</td>\n",
       "      <td>0.052523</td>\n",
       "    </tr>\n",
       "    <tr>\n",
       "      <th>8</th>\n",
       "      <td>Size: 11 gap10</td>\n",
       "      <td>100</td>\n",
       "      <td>0.003805</td>\n",
       "    </tr>\n",
       "    <tr>\n",
       "      <th>9</th>\n",
       "      <td>Size: 11 gap10</td>\n",
       "      <td>1000</td>\n",
       "      <td>0.000459</td>\n",
       "    </tr>\n",
       "    <tr>\n",
       "      <th>10</th>\n",
       "      <td>Size: 11 gap10</td>\n",
       "      <td>10000</td>\n",
       "      <td>0.001873</td>\n",
       "    </tr>\n",
       "    <tr>\n",
       "      <th>11</th>\n",
       "      <td>Size: 11 gap10</td>\n",
       "      <td>100000</td>\n",
       "      <td>0.023487</td>\n",
       "    </tr>\n",
       "    <tr>\n",
       "      <th>12</th>\n",
       "      <td>MAFFT</td>\n",
       "      <td>100</td>\n",
       "      <td>0.062090</td>\n",
       "    </tr>\n",
       "    <tr>\n",
       "      <th>13</th>\n",
       "      <td>MAFFT</td>\n",
       "      <td>1000</td>\n",
       "      <td>0.057989</td>\n",
       "    </tr>\n",
       "    <tr>\n",
       "      <th>14</th>\n",
       "      <td>MAFFT</td>\n",
       "      <td>10000</td>\n",
       "      <td>0.060600</td>\n",
       "    </tr>\n",
       "    <tr>\n",
       "      <th>15</th>\n",
       "      <td>MAFFT</td>\n",
       "      <td>100000</td>\n",
       "      <td>0.067349</td>\n",
       "    </tr>\n",
       "    <tr>\n",
       "      <th>16</th>\n",
       "      <td>CLUSTAL-W</td>\n",
       "      <td>100</td>\n",
       "      <td>0.001869</td>\n",
       "    </tr>\n",
       "    <tr>\n",
       "      <th>17</th>\n",
       "      <td>CLUSTAL-W</td>\n",
       "      <td>1000</td>\n",
       "      <td>0.002686</td>\n",
       "    </tr>\n",
       "    <tr>\n",
       "      <th>18</th>\n",
       "      <td>CLUSTAL-W</td>\n",
       "      <td>10000</td>\n",
       "      <td>4.001683</td>\n",
       "    </tr>\n",
       "  </tbody>\n",
       "</table>\n",
       "</div>"
      ],
      "text/plain": [
       "                  0       1         2\n",
       "0     Size: 11 gap1     100  0.000328\n",
       "1     Size: 11 gap1    1000  0.000828\n",
       "2     Size: 11 gap1   10000  0.008341\n",
       "3     Size: 11 gap1  100000  0.188492\n",
       "4     Size: 11 gap5     100  0.015288\n",
       "5     Size: 11 gap5    1000  0.000381\n",
       "6     Size: 11 gap5   10000  0.002650\n",
       "7     Size: 11 gap5  100000  0.052523\n",
       "8    Size: 11 gap10     100  0.003805\n",
       "9    Size: 11 gap10    1000  0.000459\n",
       "10   Size: 11 gap10   10000  0.001873\n",
       "11   Size: 11 gap10  100000  0.023487\n",
       "12           MAFFT      100  0.062090\n",
       "13           MAFFT     1000  0.057989\n",
       "14           MAFFT    10000  0.060600\n",
       "15           MAFFT   100000  0.067349\n",
       "16       CLUSTAL-W      100  0.001869\n",
       "17       CLUSTAL-W     1000  0.002686\n",
       "18       CLUSTAL-W    10000  4.001683"
      ]
     },
     "execution_count": 10,
     "metadata": {},
     "output_type": "execute_result"
    }
   ],
   "source": [
    "pd.DataFrame(Benchmarking)"
   ]
  },
  {
   "cell_type": "code",
   "execution_count": 11,
   "metadata": {},
   "outputs": [
    {
     "name": "stdout",
     "output_type": "stream",
     "text": [
      "./data/Benchmarking/dataset/S1.fasta\t./data/Benchmarking/dataset/S2.fasta\t1\t1\t0/160\n",
      "0.005196571350097656\n",
      "./data/Benchmarking/dataset/S1.fasta\t./data/Benchmarking/dataset/S2.fasta\t1\t1\t0/1000\n",
      "0.004983663558959961\n",
      "./data/Benchmarking/dataset/S1.fasta\t./data/Benchmarking/dataset/S2.fasta\t1\t1\t0/1000\n",
      "0.0070188045501708984\n",
      "./data/Benchmarking/dataset/S1.fasta\t./data/Benchmarking/dataset/S2.fasta\t1\t1\t0/1000\n",
      "0.01685023307800293\n"
     ]
    },
    {
     "name": "stderr",
     "output_type": "stream",
     "text": [
      "Sketching ./data/Benchmarking/dataset/S1.fasta...\n",
      "Writing to ./data/Benchmarking/dataset/S1.fasta.msh...\n",
      "Sketching ./data/Benchmarking/dataset/S2.fasta...\n",
      "Writing to ./data/Benchmarking/dataset/S2.fasta.msh...\n",
      "Sketching ./data/Benchmarking/dataset/S1.fasta...\n",
      "Writing to ./data/Benchmarking/dataset/S1.fasta.msh...\n",
      "Sketching ./data/Benchmarking/dataset/S2.fasta...\n",
      "Writing to ./data/Benchmarking/dataset/S2.fasta.msh...\n",
      "Sketching ./data/Benchmarking/dataset/S1.fasta...\n",
      "Writing to ./data/Benchmarking/dataset/S1.fasta.msh...\n",
      "Sketching ./data/Benchmarking/dataset/S2.fasta...\n",
      "Writing to ./data/Benchmarking/dataset/S2.fasta.msh...\n",
      "Sketching ./data/Benchmarking/dataset/S1.fasta...\n",
      "Writing to ./data/Benchmarking/dataset/S1.fasta.msh...\n",
      "Sketching ./data/Benchmarking/dataset/S2.fasta...\n",
      "Writing to ./data/Benchmarking/dataset/S2.fasta.msh...\n"
     ]
    }
   ],
   "source": [
    "for L in [100,1000,10000,100000]:\n",
    "    # L = 100\n",
    "    S1 = evolution_simulator.generate_random_seq(L) #sequence of lenght L\n",
    "    evolution_simulator.to_fasta(S1,'S1', \"./data/Benchmarking/dataset/\") #sequence of lenght L\n",
    "\n",
    "    S2 = evolution_simulator.generate_random_seq(L) #sequence of lenght L\n",
    "    evolution_simulator.to_fasta(S2,'S2', \"./data/Benchmarking/dataset/\") #sequence of lenght L\n",
    "\n",
    "\n",
    "    start = time.time()\n",
    "\n",
    "    os.system(\"mash sketch  \"+ \"./data/Benchmarking/dataset/S1.fasta\" )  \n",
    "    os.system(\"mash sketch  \"+ \"./data/Benchmarking/dataset/S2.fasta\" )  \n",
    "    os.system(\"mash dist  \"+ \"./data/Benchmarking/dataset/S1.fasta.msh ./data/Benchmarking/dataset/S2.fasta.msh\" )  \n",
    "\n",
    "    end = time.time()\n",
    "    print(end - start)\n",
    "\n",
    "    Benchmarking.append([' MASH ', L, end - start])"
   ]
  },
  {
   "cell_type": "code",
   "execution_count": 12,
   "metadata": {},
   "outputs": [
    {
     "name": "stderr",
     "output_type": "stream",
     "text": [
      "0 sequences read\n",
      "there must be at least 2 sequences\n"
     ]
    },
    {
     "name": "stdout",
     "output_type": "stream",
     "text": [
      "0.30982160568237305\n"
     ]
    },
    {
     "name": "stderr",
     "output_type": "stream",
     "text": [
      "2 sequences read\n",
      "start sorting\n",
      "each sequence must be longer than 1000 base pairs\n",
      "each sequence must be longer than 1000 base pairs\n"
     ]
    },
    {
     "name": "stdout",
     "output_type": "stream",
     "text": [
      "0.2882058620452881\n"
     ]
    },
    {
     "name": "stderr",
     "output_type": "stream",
     "text": [
      "2 sequences read\n",
      "start sorting\n",
      "starting pairwise distance calculation\n",
      "1/1\n",
      "done\n",
      "\n",
      "Distances written to file DMat\n"
     ]
    },
    {
     "name": "stdout",
     "output_type": "stream",
     "text": [
      "0.34964513778686523\n",
      "0.304718017578125\n"
     ]
    },
    {
     "name": "stderr",
     "output_type": "stream",
     "text": [
      "2 sequences read\n",
      "start sorting\n",
      "starting pairwise distance calculation\n",
      "1/1\n",
      "done\n",
      "\n",
      "Distances written to file DMat\n"
     ]
    }
   ],
   "source": [
    "\n",
    "\n",
    "for L in [100,1000,10000,100000]:\n",
    "    S1 = evolution_simulator.generate_random_seq(L) #sequence of lenght L\n",
    "    S2 = evolution_simulator.generate_random_seq(L) #sequence of lenght L\n",
    "    sequences_filename = \"./data/Benchmarking/dataset/sequences.fasta\"\n",
    "    outfile = open(sequences_filename, 'w+')\n",
    "    outfile.write('> s1 \\n')\n",
    "    outfile.write(S1)\n",
    "    outfile.write('\\n> s2 \\n')\n",
    "    outfile.write(S2)\n",
    "\n",
    "    start = time.time()\n",
    "\n",
    "    os.system(\"/home/mounim/Downloads/fswm-master/fswm ./data/Benchmarking/dataset/sequences.fasta\" )  \n",
    "\n",
    "    end = time.time()\n",
    "    print(end - start)\n",
    "\n",
    "    Benchmarking.append([' fswm ', L, end - start])"
   ]
  },
  {
   "cell_type": "code",
   "execution_count": 13,
   "metadata": {},
   "outputs": [
    {
     "name": "stderr",
     "output_type": "stream",
     "text": [
      "andi: One of the given input sequences is shorter than a thousand nucleotides. This may result in inaccurate distances. Try an alignment instead.\n",
      "andi: For the two sequences 'S1' and 'S2' the distance computation failed and is reported as nan. Please refer to the documentation for further details.\n",
      "andi: For the two sequences 'S2' and 'S1' the distance computation failed and is reported as nan. Please refer to the documentation for further details.\n",
      "andi: For the two sequences 'S1' and 'S2' the distance computation failed and is reported as nan. Please refer to the documentation for further details.\n",
      "andi: For the two sequences 'S2' and 'S1' the distance computation failed and is reported as nan. Please refer to the documentation for further details.\n",
      "andi: For the two sequences 'S1' and 'S2' the distance computation failed and is reported as nan. Please refer to the documentation for further details.\n",
      "andi: For the two sequences 'S2' and 'S1' the distance computation failed and is reported as nan. Please refer to the documentation for further details.\n"
     ]
    },
    {
     "name": "stdout",
     "output_type": "stream",
     "text": [
      "2\n",
      "S1         0.0000 nan\n",
      "S2         nan 0.0000\n",
      "0.03884100914001465\n",
      "2\n",
      "S1         0.0000 nan\n",
      "S2         nan 0.0000\n",
      "0.04889869689941406\n",
      "2\n",
      "S1         0.0000 nan\n",
      "S2         nan 0.0000\n",
      "0.04020547866821289\n",
      "2\n",
      "S1         0.0000 nan\n",
      "S2         nan 0.0000\n",
      "0.06230640411376953\n"
     ]
    },
    {
     "name": "stderr",
     "output_type": "stream",
     "text": [
      "andi: For the two sequences 'S1' and 'S2' the distance computation failed and is reported as nan. Please refer to the documentation for further details.\n",
      "andi: For the two sequences 'S2' and 'S1' the distance computation failed and is reported as nan. Please refer to the documentation for further details.\n"
     ]
    }
   ],
   "source": [
    "for L in [100,1000,10000,100000]:\n",
    "    # L = 100\n",
    "    S1 = evolution_simulator.generate_random_seq(L) #sequence of lenght L\n",
    "    evolution_simulator.to_fasta(S1,'S1', \"./data/Benchmarking/dataset/\") #sequence of lenght L\n",
    "\n",
    "    S2 = evolution_simulator.generate_random_seq(L) #sequence of lenght L\n",
    "    evolution_simulator.to_fasta(S2,'S2', \"./data/Benchmarking/dataset/\") #sequence of lenght L\n",
    "\n",
    "    start = time.time()\n",
    "\n",
    "    os.system(\"andi ./data/Benchmarking/dataset/S1.fasta ./data/Benchmarking/dataset/S2.fasta\" )  \n",
    "\n",
    "    end = time.time()\n",
    "    print(end - start)\n",
    "\n",
    "    Benchmarking.append([' ANDI ', L, end - start])"
   ]
  },
  {
   "cell_type": "code",
   "execution_count": 14,
   "metadata": {},
   "outputs": [
    {
     "data": {
      "text/plain": [
       "<AxesSubplot:xlabel='None-1', ylabel='0'>"
      ]
     },
     "execution_count": 14,
     "metadata": {},
     "output_type": "execute_result"
    },
    {
     "data": {
      "image/png": "[encoded data removed]",
      "text/plain": [
       "<Figure size 720x1008 with 2 Axes>"
      ]
     },
     "metadata": {
      "needs_background": "light"
     },
     "output_type": "display_data"
    }
   ],
   "source": [
    "benchmark = pd.DataFrame(Benchmarking)\n",
    "benchmark[benchmark.iloc[:,2] > 5 ][2] = 5\n",
    "benchmark\n",
    "matrix = pd.pivot_table(data = benchmark, columns=[1],  index=[0])\n",
    "matrix.droplevel(0, axis=1) \n",
    "matrix.droplevel(1, axis=1) \n",
    "colormap = sns.color_palette(\"vlag\")\n",
    "\n",
    "plt.figure(figsize=(10, 14))\n",
    "\n",
    "sns.heatmap(np.log10((matrix)*100+1), annot=matrix, fmt='.5f', cmap='Spectral_r')\n"
   ]
  }
 ],
 "metadata": {
  "kernelspec": {
   "display_name": "spatial-networks",
   "language": "python",
   "name": "spatial-networks"
  },
  "language_info": {
   "codemirror_mode": {
    "name": "ipython",
    "version": 3
   },
   "file_extension": ".py",
   "mimetype": "text/x-python",
   "name": "python",
   "nbconvert_exporter": "python",
   "pygments_lexer": "ipython3",
   "version": "3.9.12"
  },
  "orig_nbformat": 4,
  "vscode": {
   "interpreter": {
    "hash": "916dbcbb3f70747c44a77c7bcd40155683ae19c65e1c03b4aa3499c5328201f1"
   }
  }
 },
 "nbformat": 4,
 "nbformat_minor": 2
}
