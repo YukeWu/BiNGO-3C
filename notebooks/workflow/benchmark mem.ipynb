{
 "cells": [
  {
   "cell_type": "code",
   "execution_count": 1,
   "metadata": {},
   "outputs": [
    {
     "name": "stdout",
     "output_type": "stream",
     "text": [
      "/home/mounim/PHD-Projects/BiNGO-3C/notebooks\n"
     ]
    }
   ],
   "source": [
    "import psutil\n",
    "import matplotlib.pyplot as plt\n",
    "import numpy as np\n",
    "import pandas as pd\n",
    "from matplotlib.pyplot import figure\n",
    "import seaborn as sns\n",
    "import random\n",
    "import sys\n",
    "from itertools import combinations\n",
    "import scipy.cluster.hierarchy as shc\n",
    "\n",
    "%cd ..\n",
    "from src import sw3c, evolution_simulator\n",
    "import time\n"
   ]
  },
  {
   "cell_type": "code",
   "execution_count": 2,
   "metadata": {},
   "outputs": [],
   "source": [
    "import tracemalloc\n"
   ]
  },
  {
   "cell_type": "code",
   "execution_count": 3,
   "metadata": {},
   "outputs": [],
   "source": [
    "Benchmarking = []"
   ]
  },
  {
   "cell_type": "code",
   "execution_count": 6,
   "metadata": {},
   "outputs": [
    {
     "name": "stdout",
     "output_type": "stream",
     "text": [
      "149\n",
      "232\n",
      "464\n",
      "1049\n",
      "232\n",
      "464\n",
      "10049\n",
      "232\n",
      "464\n",
      "100049\n",
      "232\n",
      "464\n"
     ]
    }
   ],
   "source": [
    "size, gap = 11,1\n",
    "d = 5 # delimiter size\n",
    "\n",
    "for L in [100,1000,10000,100000]:\n",
    "    # L = 100\n",
    "    S1 = evolution_simulator.generate_random_seq(L) #sequence of lenght L\n",
    "    evolution_simulator.to_fasta(S1,'S1', \"./data/Benchmarking/dataset/\") #sequence of lenght L\n",
    "\n",
    "    S2 = evolution_simulator.generate_random_seq(L) #sequence of lenght L\n",
    "    evolution_simulator.to_fasta(S2,'S2', \"./data/Benchmarking/dataset/\") #sequence of lenght L\n",
    "\n",
    "    end = sys.getsizeof(S1) \n",
    "    print(end)\n",
    "\n",
    "\n",
    "    delim = sw3c.random_delimiter(d) #select delimiter\n",
    "    dictSeqs = sw3c.dict_of_seqs_from_file(\"./data/Benchmarking/dataset/S1.fasta\" ) #load from file\n",
    "    dicSubseqs = sw3c.dictSubSeq_from_dictSeq(dictSeqs, delim) #remake seqs using delim\n",
    "    dictKmers1 = sw3c.dictKmer_from_DictSubseq(dicSubseqs, size, gap) # make chunks\n",
    "\n",
    "    dictSeqs = sw3c.dict_of_seqs_from_file(\"./data/Benchmarking/dataset/S2.fasta\" ) #load from file\n",
    "    dicSubseqs = sw3c.dictSubSeq_from_dictSeq(dictSeqs, delim) #remake seqs using delim\n",
    "    dictKmers2 = sw3c.dictKmer_from_DictSubseq(dicSubseqs, size, gap) # make chunks\n",
    "\n",
    "    end = sys.getsizeof(dicSubseqs) \n",
    "    print(end)\n",
    "\n",
    "    del dictSeqs\n",
    "    del dicSubseqs\n",
    "    del S1, S2\n",
    "    start = tracemalloc.start()\n",
    "\n",
    "    for i in dictKmers1.keys(): # S1: ref\n",
    "        for j in dictKmers2.keys(): # S2: target\n",
    "            INT = dictKmers1[i].intersection(dictKmers2[j])\n",
    "            UNI = dictKmers1[i].union(dictKmers2[j])\n",
    "            Score = len(INT) / len(UNI)\n",
    "\n",
    "\n",
    "\n",
    "    end = sys.getsizeof(dictKmers2) + sys.getsizeof(dictKmers1)\n",
    "    print(end)\n",
    "    Benchmarking.append([' Size: '+str(size)+' gap'+str(gap), L, end])\n",
    "    tracemalloc.stop()"
   ]
  },
  {
   "cell_type": "code",
   "execution_count": 5,
   "metadata": {},
   "outputs": [
    {
     "name": "stdout",
     "output_type": "stream",
     "text": [
      "464\n",
      "464\n",
      "464\n",
      "464\n"
     ]
    }
   ],
   "source": [
    "size, gap = 11,5\n",
    "d = 5 # delimiter size\n",
    "\n",
    "for L in [100,1000,10000,100000]:\n",
    "    # L = 100\n",
    "    S1 = evolution_simulator.generate_random_seq(L) #sequence of lenght L\n",
    "    evolution_simulator.to_fasta(S1,'S1', \"./data/Benchmarking/dataset/\") #sequence of lenght L\n",
    "\n",
    "    S2 = evolution_simulator.generate_random_seq(L) #sequence of lenght L\n",
    "    evolution_simulator.to_fasta(S2,'S2', \"./data/Benchmarking/dataset/\") #sequence of lenght L\n",
    "\n",
    "\n",
    "\n",
    "    delim = sw3c.random_delimiter(d) #select delimiter\n",
    "    dictSeqs = sw3c.dict_of_seqs_from_file(\"./data/Benchmarking/dataset/S1.fasta\" ) #load from file\n",
    "    dicSubseqs = sw3c.dictSubSeq_from_dictSeq(dictSeqs, delim) #remake seqs using delim\n",
    "    dictKmers1 = sw3c.dictKmer_from_DictSubseq(dicSubseqs, size, gap) # make chunks\n",
    "\n",
    "    dictSeqs = sw3c.dict_of_seqs_from_file(\"./data/Benchmarking/dataset/S2.fasta\" ) #load from file\n",
    "    dicSubseqs = sw3c.dictSubSeq_from_dictSeq(dictSeqs, delim) #remake seqs using delim\n",
    "    dictKmers2 = sw3c.dictKmer_from_DictSubseq(dicSubseqs, size, gap) # make chunks\n",
    "\n",
    "    del dictSeqs\n",
    "    del dicSubseqs\n",
    "    del S1, S2\n",
    "    start = tracemalloc.start()\n",
    "\n",
    "    for i in dictKmers1.keys(): # S1: ref\n",
    "        for j in dictKmers2.keys(): # S2: target\n",
    "            INT = dictKmers1[i].intersection(dictKmers2[j])\n",
    "            UNI = dictKmers1[i].union(dictKmers2[j])\n",
    "            Score = len(INT) / len(UNI)\n",
    "\n",
    "\n",
    "    end = sys.getsizeof(dictKmers2) + sys.getsizeof(dictKmers1)\n",
    "    print(end)\n",
    "    Benchmarking.append([' Size: '+str(size)+' gap'+str(gap), L, end])\n",
    "    tracemalloc.stop()"
   ]
  },
  {
   "cell_type": "code",
   "execution_count": 6,
   "metadata": {},
   "outputs": [
    {
     "name": "stdout",
     "output_type": "stream",
     "text": [
      "464\n",
      "464\n",
      "464\n",
      "464\n"
     ]
    }
   ],
   "source": [
    "size, gap = 11,10\n",
    "d = 5 # delimiter size\n",
    "\n",
    "for L in [100,1000,10000,100000]:\n",
    "    # L = 100\n",
    "    S1 = evolution_simulator.generate_random_seq(L) #sequence of lenght L\n",
    "    evolution_simulator.to_fasta(S1,'S1', \"./data/Benchmarking/dataset/\") #sequence of lenght L\n",
    "\n",
    "    S2 = evolution_simulator.generate_random_seq(L) #sequence of lenght L\n",
    "    evolution_simulator.to_fasta(S2,'S2', \"./data/Benchmarking/dataset/\") #sequence of lenght L\n",
    "\n",
    "\n",
    "\n",
    "    delim = sw3c.random_delimiter(d) #select delimiter\n",
    "    dictSeqs = sw3c.dict_of_seqs_from_file(\"./data/Benchmarking/dataset/S1.fasta\" ) #load from file\n",
    "    dicSubseqs = sw3c.dictSubSeq_from_dictSeq(dictSeqs, delim) #remake seqs using delim\n",
    "    dictKmers1 = sw3c.dictKmer_from_DictSubseq(dicSubseqs, size, gap) # make chunks\n",
    "\n",
    "    dictSeqs = sw3c.dict_of_seqs_from_file(\"./data/Benchmarking/dataset/S2.fasta\" ) #load from file\n",
    "    dicSubseqs = sw3c.dictSubSeq_from_dictSeq(dictSeqs, delim) #remake seqs using delim\n",
    "    dictKmers2 = sw3c.dictKmer_from_DictSubseq(dicSubseqs, size, gap) # make chunks\n",
    "\n",
    "    del dictSeqs\n",
    "    del dicSubseqs\n",
    "    del S1, S2\n",
    "    start = tracemalloc.start()\n",
    "\n",
    "    for i in dictKmers1.keys(): # S1: ref\n",
    "        for j in dictKmers2.keys(): # S2: target\n",
    "            INT = dictKmers1[i].intersection(dictKmers2[j])\n",
    "            UNI = dictKmers1[i].union(dictKmers2[j])\n",
    "            Score = len(INT) / len(UNI)\n",
    "\n",
    "\n",
    "    end = sys.getsizeof(dictKmers2) + sys.getsizeof(dictKmers1)\n",
    "    print(end)\n",
    "    Benchmarking.append([' Size: '+str(size)+' gap'+str(gap), L, end])\n",
    "    tracemalloc.stop()"
   ]
  },
  {
   "cell_type": "code",
   "execution_count": 7,
   "metadata": {},
   "outputs": [
    {
     "data": {
      "text/html": [
       "<div>\n",
       "<style scoped>\n",
       "    .dataframe tbody tr th:only-of-type {\n",
       "        vertical-align: middle;\n",
       "    }\n",
       "\n",
       "    .dataframe tbody tr th {\n",
       "        vertical-align: top;\n",
       "    }\n",
       "\n",
       "    .dataframe thead th {\n",
       "        text-align: right;\n",
       "    }\n",
       "</style>\n",
       "<table border=\"1\" class=\"dataframe\">\n",
       "  <thead>\n",
       "    <tr style=\"text-align: right;\">\n",
       "      <th></th>\n",
       "      <th>0</th>\n",
       "      <th>1</th>\n",
       "      <th>2</th>\n",
       "    </tr>\n",
       "  </thead>\n",
       "  <tbody>\n",
       "    <tr>\n",
       "      <th>0</th>\n",
       "      <td>Size: 11 gap1</td>\n",
       "      <td>100</td>\n",
       "      <td>464</td>\n",
       "    </tr>\n",
       "    <tr>\n",
       "      <th>1</th>\n",
       "      <td>Size: 11 gap1</td>\n",
       "      <td>1000</td>\n",
       "      <td>464</td>\n",
       "    </tr>\n",
       "    <tr>\n",
       "      <th>2</th>\n",
       "      <td>Size: 11 gap1</td>\n",
       "      <td>10000</td>\n",
       "      <td>464</td>\n",
       "    </tr>\n",
       "    <tr>\n",
       "      <th>3</th>\n",
       "      <td>Size: 11 gap1</td>\n",
       "      <td>100000</td>\n",
       "      <td>464</td>\n",
       "    </tr>\n",
       "    <tr>\n",
       "      <th>4</th>\n",
       "      <td>Size: 11 gap5</td>\n",
       "      <td>100</td>\n",
       "      <td>464</td>\n",
       "    </tr>\n",
       "    <tr>\n",
       "      <th>5</th>\n",
       "      <td>Size: 11 gap5</td>\n",
       "      <td>1000</td>\n",
       "      <td>464</td>\n",
       "    </tr>\n",
       "    <tr>\n",
       "      <th>6</th>\n",
       "      <td>Size: 11 gap5</td>\n",
       "      <td>10000</td>\n",
       "      <td>464</td>\n",
       "    </tr>\n",
       "    <tr>\n",
       "      <th>7</th>\n",
       "      <td>Size: 11 gap5</td>\n",
       "      <td>100000</td>\n",
       "      <td>464</td>\n",
       "    </tr>\n",
       "    <tr>\n",
       "      <th>8</th>\n",
       "      <td>Size: 11 gap10</td>\n",
       "      <td>100</td>\n",
       "      <td>464</td>\n",
       "    </tr>\n",
       "    <tr>\n",
       "      <th>9</th>\n",
       "      <td>Size: 11 gap10</td>\n",
       "      <td>1000</td>\n",
       "      <td>464</td>\n",
       "    </tr>\n",
       "    <tr>\n",
       "      <th>10</th>\n",
       "      <td>Size: 11 gap10</td>\n",
       "      <td>10000</td>\n",
       "      <td>464</td>\n",
       "    </tr>\n",
       "    <tr>\n",
       "      <th>11</th>\n",
       "      <td>Size: 11 gap10</td>\n",
       "      <td>100000</td>\n",
       "      <td>464</td>\n",
       "    </tr>\n",
       "  </tbody>\n",
       "</table>\n",
       "</div>"
      ],
      "text/plain": [
       "                  0       1    2\n",
       "0     Size: 11 gap1     100  464\n",
       "1     Size: 11 gap1    1000  464\n",
       "2     Size: 11 gap1   10000  464\n",
       "3     Size: 11 gap1  100000  464\n",
       "4     Size: 11 gap5     100  464\n",
       "5     Size: 11 gap5    1000  464\n",
       "6     Size: 11 gap5   10000  464\n",
       "7     Size: 11 gap5  100000  464\n",
       "8    Size: 11 gap10     100  464\n",
       "9    Size: 11 gap10    1000  464\n",
       "10   Size: 11 gap10   10000  464\n",
       "11   Size: 11 gap10  100000  464"
      ]
     },
     "execution_count": 7,
     "metadata": {},
     "output_type": "execute_result"
    }
   ],
   "source": [
    "pd.DataFrame(Benchmarking)"
   ]
  },
  {
   "cell_type": "code",
   "execution_count": 8,
   "metadata": {},
   "outputs": [],
   "source": [
    "import os"
   ]
  },
  {
   "cell_type": "code",
   "execution_count": 9,
   "metadata": {},
   "outputs": [
    {
     "name": "stderr",
     "output_type": "stream",
     "text": [
      "outputhat23=16\n",
      "treein = 0\n",
      "compacttree = 0\n",
      "Warning: Only 0 sequence found.\n",
      "minimumweight = 0.000010\n",
      "autosubalignment = 0.000000\n",
      "nthread = 0\n",
      "randomseed = 0\n",
      "blosum 62 / kimura 200\n",
      "poffset = 0\n",
      "niter = 16\n",
      "sueff_global = 0.100000\n",
      "nadd = 16\n",
      "Warning: Only 0 sequence found.\n",
      "\n",
      "Strategy:\n",
      " L-INS-i (Probably most accurate, very slow)\n",
      " Iterative refinement method (<16) with LOCAL pairwise alignment information\n",
      "\n",
      "If unsure which option to use, try 'mafft --auto input > output'.\n",
      "For more information, see 'mafft --help', 'mafft --man' and the mafft page.\n",
      "\n",
      "The default gap scoring scheme has been changed in version 7.110 (2013 Oct).\n",
      "It tends to insert more gaps into gap-rich regions than previous versions.\n",
      "To disable this change, add the --leavegappyregion option.\n",
      "\n",
      "outputhat23=16\n",
      "treein = 0\n",
      "compacttree = 0\n",
      "Warning: Only 1 sequence found.\n",
      "minimumweight = 0.000010\n",
      "autosubalignment = 0.000000\n",
      "nthread = 0\n",
      "randomseed = 0\n",
      "blosum 62 / kimura 200\n",
      "poffset = 0\n",
      "niter = 16\n",
      "sueff_global = 0.100000\n",
      "nadd = 16\n",
      "Warning: Only 1 sequence found.\n",
      "\n",
      "Strategy:\n",
      " L-INS-i (Probably most accurate, very slow)\n",
      " Iterative refinement method (<16) with LOCAL pairwise alignment information\n",
      "\n",
      "If unsure which option to use, try 'mafft --auto input > output'.\n",
      "For more information, see 'mafft --help', 'mafft --man' and the mafft page.\n",
      "\n",
      "The default gap scoring scheme has been changed in version 7.110 (2013 Oct).\n",
      "It tends to insert more gaps into gap-rich regions than previous versions.\n",
      "To disable this change, add the --leavegappyregion option.\n",
      "\n",
      "outputhat23=16\n",
      "treein = 0\n",
      "compacttree = 0\n",
      "Warning: Only 1 sequence found.\n",
      "minimumweight = 0.000010\n",
      "autosubalignment = 0.000000\n",
      "nthread = 0\n",
      "randomseed = 0\n",
      "blosum 62 / kimura 200\n",
      "poffset = 0\n",
      "niter = 16\n",
      "sueff_global = 0.100000\n",
      "nadd = 16\n",
      "Warning: Only 1 sequence found.\n",
      "\n",
      "Strategy:\n",
      " L-INS-i (Probably most accurate, very slow)\n",
      " Iterative refinement method (<16) with LOCAL pairwise alignment information\n",
      "\n",
      "If unsure which option to use, try 'mafft --auto input > output'.\n",
      "For more information, see 'mafft --help', 'mafft --man' and the mafft page.\n",
      "\n",
      "The default gap scoring scheme has been changed in version 7.110 (2013 Oct).\n",
      "It tends to insert more gaps into gap-rich regions than previous versions.\n",
      "To disable this change, add the --leavegappyregion option.\n",
      "\n"
     ]
    },
    {
     "name": "stdout",
     "output_type": "stream",
     "text": [
      "298\n",
      "2098\n",
      "20098\n",
      "200098\n"
     ]
    },
    {
     "name": "stderr",
     "output_type": "stream",
     "text": [
      "outputhat23=16\n",
      "treein = 0\n",
      "compacttree = 0\n",
      "Warning: Only 1 sequence found.\n",
      "minimumweight = 0.000010\n",
      "autosubalignment = 0.000000\n",
      "nthread = 0\n",
      "randomseed = 0\n",
      "blosum 62 / kimura 200\n",
      "poffset = 0\n",
      "niter = 16\n",
      "sueff_global = 0.100000\n",
      "nadd = 16\n",
      "Warning: Only 1 sequence found.\n",
      "\n",
      "Strategy:\n",
      " L-INS-i (Probably most accurate, very slow)\n",
      " Iterative refinement method (<16) with LOCAL pairwise alignment information\n",
      "\n",
      "If unsure which option to use, try 'mafft --auto input > output'.\n",
      "For more information, see 'mafft --help', 'mafft --man' and the mafft page.\n",
      "\n",
      "The default gap scoring scheme has been changed in version 7.110 (2013 Oct).\n",
      "It tends to insert more gaps into gap-rich regions than previous versions.\n",
      "To disable this change, add the --leavegappyregion option.\n",
      "\n"
     ]
    }
   ],
   "source": [
    "for L in [100,1000,10000,100000]:\n",
    "    # L = 100\n",
    "    S1 = evolution_simulator.generate_random_seq(L) #sequence of lenght L\n",
    "    S2 = evolution_simulator.generate_random_seq(L) #sequence of lenght L\n",
    "    sequences_filename = \"./data/Benchmarking/dataset/sequences.fasta\"\n",
    "    outfile = open(sequences_filename, 'w+')\n",
    "    outfile.write('> s1')\n",
    "    outfile.write(S1)\n",
    "    outfile.write('> s2')\n",
    "    outfile.write(S2)\n",
    "\n",
    "    start = tracemalloc.start()\n",
    "\n",
    "    os.system(\"mafft --auto \"+ sequences_filename + ' > outfile')  \n",
    "\n",
    "    end = sys.getsizeof(S1) + sys.getsizeof(S2)\n",
    "    print(end)\n",
    "    Benchmarking.append(['MAFFT ', L, end])\n"
   ]
  },
  {
   "cell_type": "code",
   "execution_count": 10,
   "metadata": {},
   "outputs": [
    {
     "name": "stderr",
     "output_type": "stream",
     "text": [
      "\n",
      "\n",
      "ERROR: No sequences in file. No alignment!\n",
      "\n",
      "\n"
     ]
    },
    {
     "name": "stdout",
     "output_type": "stream",
     "text": [
      "GCAGGGCCAGCTGAATAGATACCAGCTTGTGAGTGTCAGCTGGCACCCTGACCTTATTGCATGTCCAGTAGAAACTTAAGATTAAAGGATCGGAACCAAG\n",
      "298\n",
      "GGTGGCCCCTGGCTAGCAATGCAAAATTTGTTCTTCTACCATCACGACCAAGAGCCAACGGTCATAGGCTTCGACCGCTAAAAATGACCGGTGACGAGAGCCGAGTTGGGCATATCTCCGCATTAACCTCCAAGGCAAGGCTGGTAGGGTACCACATACACATTAACGCTCGAGAGCTACTCACCTTTAGGCCGAGAAATCCGACGGCGGACAGAGTGTTACTATAAGGAGCTCGCGACATGATAGCATGCGACGGGTCACCATCGTATAAGACCGCATTACGCACACGTGTGACGTGAGTTCCGTCTATTGCGATCTTCTGACAGTAACGGTGTCGCGCGATGCTTGAGTTCGTTGTTGTTTGTTTGACGCGCTCCAAGGCGCACCATCAAACAGTTTCAGTATTGTATGAGGGCCGGTTCAACAGCTTCAGAAGACTGCCTGTCAACTAATTTTCGCGGCCATCTACCGGCTAACATTATTTAGCGGCATCTCCCGCGTCACCGTAGATGCTGGACCCTGTTCCGGCGGGACGATTTCGATCCGCGGACAAGGATAATTACTATTAGTGAAGGAGATGTCCCAAGTATTGGGCGGTCCCAGCTCTACTCACGTAGACGCTTTGAATTGTAAGCAGCACTCCCGTAAGGTTCTTCATAGTCCAACACTACAGGGCGGCGGGACCAGACGCCACGGGGTAGTTTAATACCTCGCTTTCCTATTGCGCTGCAACTTTAGGTGTTCTTCGCAAACAAAAGAAACACTCCCCATCCAACTTGAGGGGGGCATATCCTCATGTCATGGTATTCAGTGAATGAGATTCGTCTACCACTTCGCACCGCGGGTGCGTGTAATCTAGGTCCCTCATGTGCTCCTGTAAATTCCCGGCTAATTAGGGAATGATATGCGGCCGAGGCGAGCCCGGGGCCTGCAAACCCTATGGCAGTGAACCCCCGTGGAGTCAGCAGACCAGTACAGTATCGCGGAGACTCCTCACGCC\n",
      "2098\n",
      "ACGACAGGAACAAAGGATTGCAGGGTTCCCGTGTCTCGGGAAAAACAGTTTGAAGAGCATGTCCCGCATCATTACGCCGCCAGATAGTATGCCGCGCTTTATGGCGTCCCTGAACGAAGGGGCATCCTACGCCGTCAAGCGGTATTTATCTGTACAATCCATCATATAGGCGACGCCTGGCATATCAGACTTATACAGTGAAACCTAGCCTAGAGGGTCAACGTCCCATTAGCTCAGGGACTGCGGGCTGCGCAACTAGGTCAGTATAAAAGTGTTCCGACGAGCCTGAGGTGCGCTTTAGCTGACCGTTCTGTGGCTACATTATCAGAATTGACAGGTCCAAATCCATCTGCCAGAAGCGCATGCTGTGACTCTTAATTGGGGCCATTTAGCATTCTATATGACCTCGCTTCTACGCTTGATTCTGTTAGTCGTGAGGAACTGTGTTGAACCAGCCAGCTATGTGTATAATAACACGTCTTGTCTGCTAGAGATTCCAAAAGGACCACGCAGCAGTGAGGAGGGCAACTGTCCGAAATGTCCAAATCTCACCTATTGAAATGTGATTGAAGGACATCGCCACTTCGCCGAAGGATCCTATTCGATCGTTAAAGCGACTGGACGTCGAGGTACTATGTTGTAGGCGGTCCGTCCCTGTCCAAGAACCAGCTTAAGTACGAACCCTTCGGGGAAAGGCTACGATCATTCTAATTATTGCTTGGTACAGCGTACGCTCCTTTGCAACATATATCCATATGTGTCGATTTGAAGCATCACTGGGTTTCCGGGGTTGCGTTTCCTCAAGGCGGTATTGGTTTTTCTGGCTACTGGCAGCCCTGTGCTGCTCTTCATCATTCCGATGTAGGACCCCGAATAATTGCGATCGTTATTAGGCCCACAATTGATGCCTCCTGCATTCGCATCCCATATTGGCGACTTCGATTGGCTATACGGGCAAATCTGCGTTGGTCCCAATCGTTTCGCAGATAATGGTCTGGGAGCACGATGAACCTACACGAATCCTACTCAGGGGATTTTGAGATGAGGGCAGGAGGTCGTCCTAAAGTCTGGGATTTGTACGGCCAGAGCACGTGGTCACGGTTACATAGTGACAGGAGGAGCCGGCCTCGCCGAATATGTGGTCCACGTCGAAAGTTCTAATCTCAACGACCATTAGTTAGTCGAATTTAGGCAGAGGGGTGAAGATTTTCGCATTCTGTACAAGCGGTGGAAGTGCGGCCCCGATTCTGGGAAGACATAAACACTTGTTAAGTCTATCAATCCGCCCTGTTAGGGACGGAAATGTTGGGACAGCACAGGCGATAAAGAGTTGTGCCTATCATTGTCACGTCCCTTACCGTGGCGTTTGATGAGCGACGTGTCGGCCAATGTTATGACCACATATGAATCAGATGTCGGCTCGAGGTCTGCACGTTTGCCGCTTTTTCCCCCAGAGGTTAGAGATATTATTTCAATTTAAAAAGTACGTTCTGGCCCCGCAAGTCCTGAGACGAGCGCGCAATGTCCGTGGCAGCGACGGCTTCAACGCTGTTGACGGGAATAGTGCATACCTCGTGGTGGTCGGCCAAAAAGTACGAATTTACGGCAAATTGCCGGTCAAGTGGCCATGCAGGTTCTTAAACCGCGATTCGCTCGCCGAAACAGTGAGTATGGAATACGCCTTCAGGCGTCCCGCGAGTATACGTGCAATTTGCGTCTTAGCCCACATGTCACCATAGGAGGTCAATCCCATGGTCAGAGATTTATCTATGAGAGCGACGGGGCGAAGAATCGTCATCACCGTAAGGTTAGAAAGGTGCGTCCCCCACCTTGCAGGGTTCTTCAGACGCGGCGTCGTCATTCCATGGGCAGAAACCTAAACGCCTGGGATACCGGATTGGGTGTTGTCTAGACTCCCTGTCTAGCGCAAATCTCAATACTTTCCGGAATCGGACGAGTGCCCAGGGCACCGCTGACCCGGCTAGGGATCCAGTCATCCTGTAGAATTCCGTTATCTACTCATCAGTGGCCTTGTGCTGCGATAACGACGCTATCCTATTCGCAGAATGTTTAGATTCCAGTACAACGATGTGCGCAACCGCTCTACCCAACCTTCTTACCCAGAAAGTCGACTCTAGTCAAGTACCTGGCAGGATCTCCGTAGCAATTCTATCTGGACGAGTAAGGAAACCGAGAGTGCGCCAAGATAGGGTCGCTTAAACAGACAAGACCGTTCGCGGCGGGCCGCTTCAACTGGGTACCAAAAAGTACGGACGTCGACATACCTCCGGCCTCGCATGTTCCTGGCCAACACACCATATTTATAAAATCTGGCCAAGTATCTTCGTAGGATTTTCGCCCGACGACAAGACACGAGCTTTGTTCGTTGCGGCCGGACCAGTTTCTACCGGTGATTTATTTGACCGCGAACGTATTACCACAAAAAGGCATTTCCTATCGTATCCCTGCTAATTATGCATGGCGTTGTATCCGTAGTCGCAGGTACTTCGTGCGTGCTATTCTTTACAGGGTCGGTCATGGTTACCAATCTACTAGATTTATGCAACGGCACGTTGAGTCGTAACGTCCCTTGCTAGCCTTTCTGAGATTACAATCTAATACCCGAAGCCCTGCAACGTTCACACCTAGTACCACTTGGCGTAAACTAAGCGGGGAAGCACGTCCGCTTCCAAACCTCTTCTGTTGATCAGACCACGACAAAACGGTCAGGTCCCTGATGCTATGGTGAAGAAAGCTTCTCTGCTACGAACCCCGCGTGGTCCTCATATTGGAAAGCGCGTGTTTTTTTATAGCTTGAATAGCAAAAAGAGCTATTGTCTGACAACAATGAATCCATATTTACCTTCACTGAGAGAATCAGACGAGGGTCATGAGGCCCATTGCCCGGGGATTAAATATAGCCTAAGCGGCGTAATTACGGCCCCAAAGCTTCGAAAGCTTGGATCTTACATAATGGTAAGCGCGAATCAGTGCAATCAAAGGGCCAACGCCCTCGAAAGAGAGGTGTGATTTTGATACGACCACCACGAGTGATAACACTTAACGGATTGGATCCGTATAGAATCCTACGCATCACTGGATTGGCCCTAACAACGGGTGGTTCGTGGGTCTTCAAGGGACGACACAACAAATTCGGCAACGGAACGAAACAATACTGCTTGAGACGGCCAAATCACGGTTGCCCAACTCTGGGTATCGTCTGATAGCCTTTCCAAGAACCGGAATCTTTGTCACATTGTTGAACCTCGCGCTGGCCGGTCAGGCATGCGTAAATTATTATCTCGCATCAGTTATTCGGTGGCACAACAATGTCGGGGCCCAACTCGTTACGGGCACTAAATCATCATGTGCTAAGTATTACGTTCCCCACGGAGCACGGGTTTATGGCAACGTCCAACTAGTTTCCTCTCTGTCGCCGCGCCATCCAAAATCGTGAGCCGGGAAATAACCCGCGTGACGGCCAGACACGACCCGAACGTGCATGGTATCTGGAGGTTAGCTAATTTAGACGGACACAGCGACACGGAATAGGAGAAAATGTCTATGCACGCACTAGACTGATTGGAAGCACGCGGGGGACGGGTCTGAGTCGAAGTGAAGCACACCATCACATCCCTTCAGATGGACGTGATGGAGTCGAAACACTGTCACCGGCGTGAGACTACCCGCATGGATCTCCTGGCAAACGGGTAGCGCCCACGTCTCTGTCCGTCCCGTCGTTCCTGGACGTATATGCATTTTCACAAGCTGCGTATATACTAGCGCCCCGTGAAATAGGCCTTATAGCAATAGCTGCTGTTTGTCCCTCTCGTGCGCCTAATCTGCCGAGATGAGGTCTACCTGATTGGGCTTTCTTCTGAAAGTATGGAAGGGTAAGAGTCAAAGTCAGGTTTGAATAGGACGTAGTGCTCCGCGCGACGGATTTCATCCTCTGCTAGGGAGGGAACCATGACACCCAGTCGGATCTTCCGAAGCGACTCAATTCTGTATCCCTTATATACTCCTCGACTGCTACGAGCTGCACCGAGGACTCCGAGCGATAGCCGGTAATCAGAGTCCCTACATGCTACACAGGGGAAAGTTTAAAACGAGTACCATTTGTGGCGTACATACCAGCGATGAACTTGTTTGAACCTGTGCCGGCGAGCCCTCCAGCCGTGATCAATAACGGATATGGTTCTTCGTCTACCACAATTACGTTTGACCACAATCTAGTATCACCAGTGAGAACAAAAGCGACTTTAAAGGAATTTAAACATAACCTGGTCTTGGACATTACTTAAATCAAAACCTATACCCTGACAGGGTGGTGAGTCCGCGGCACTACGCGGGTGAGCCTGGGCCGGGACCTCGCGAGATACCTTACCCTCTCTTTCAGAACTAGCTTGTCGTAGGTACGAGCGAAGCCGCAACACGGATCCGCGTCACGAAGTGCAATTGATTTTTTGGGGCAAGAAGAGCAGATGGGGTGGTGTTTTAAATCCGCTCTTACTAACACGAGATCCAATAACCGCATCGCAGTTACAATACGGACACAGCATCTGTGACAGAAGAACATCGAGACGAGACCGAACTCGCTACCGCGTGCCAATCATCCGTATCGTTTTGTCGAATTAAGGCATTGTAATGTGAAGAGATCGACTTCCCCGCCCAGAGTTACAGTTCACTCGAATTTGGGGGTGGAATTTCTTAAGTAATGATAACTCCTGGATGATTACATATCCAACACAGGTACGCGTGACCGTGTCGTCTTCCCCGCCTTCCCACGGACAGTATATGCGACAAGGTCTTTGCCCCCACACACGTAAAGCGGCACAGGGCACTGCAAAACATGCATGGGGGCCTGGTCAGCCGCAGTTAGGTCGTCCTAGCAAGGCTGATGCAGCTGGACCAGCATCTAAACAGCGAGTTGTCTGAATATTGCTTTCTTGCTTTAATATGGGGTCAGTGTGCATAGGATCAATATAAAACTTAAGGGCAGGTATAAGGGTCTGACCCTCCGACCAAATTGAGGTCTGGGTAATCTTGCTCTCGTGGCTCCTGGTCCCCAATAATCTCTGCAGAGATCCAGAGTACACCGGACGACACTTGGTCTTCCACCACTTGTCAATGCTCTAGGGCTCGACTTAGTTGGCCGTTCGATGGCGGTCCTAATCGCGCATGTGATACACTGCTCCTGTACTGGGCACGAGGTTTATACAAGTACGTGAGTTGACGTAACCGAATAGCAGGGCGGTGTCCTTTTGATAACGCGACAGGCCGGTAGCCAATTCCTTGATTAGCAAGTGGGGAAGGATAAGGGTACCTCGATCCTAGTTTACGAAAAAAAAGACGATGGCCCCGCGCTCGTTATCGGTGTCTGCCCCCTACGCCTGAGAGTTCAGAGACACGATCACGCTTCGGGCATTTACCCCAGCTTTCGTACTGGTTGCTCTAGAGTTGGACTGGTGGGGTGACGCCCAGAGGAAGTGCCCAGACTCACCTAGTAATCTTACTGTAGCTAGTTGGTTCTGGGAGTGCTCGTACTTGTCTCGCCGTACCCTGGCGTTATTACATAGGTAGGAGTGTCAGCTCATCTAGCAGATCAGCCGAGTTGGAGACATACAGCCTGCACCGAATATGCCAATTACTCATATGGGTCTTAATACGGTAGACCAATCCTTAAGCGGGTGTCTAAGGCTACCTCGCAGAAGTCAGGCTAACGACTTCTGTGCCCCAAATTGTAGCGCACACCAAATCCCAATGCGATGAGTTGTAAGGTTCAGCATAAACGTAATGCCCGTATGGTTGCAGGTACAGACTCTCGCAGTCCGTGAAATTTCGATCATCAGAACTTGTGGGTCTCTCATCAAGCAGGGTTTTCCGCTCGTAAGAGAGTGTATTCGACTCATGTTCTCTAGACCTATTGCTGATCCAAATGCGAATTTCTCGTATGCGTATTCTTCTTCGACGGAGGACCTCTCTAATAGGGATAAACCAATCATCCTGCCCGCGGGGGGAAACGATAGGTCTTGTCCCTGAACTGTGATGGTTATGTTTGGTTGATGAAGGCAAACTGCTGAGCCCGGCCGTCGCCTACGATGTATGGTCCTCGAACAATAGCGCCAGTAGGTTTTTTAACTGCTATGATTAAGCAAACACTTAAGGGTAGAGTTGACCGGGAATAGCGGATTCCAGGTGCGATACACGTATGTTCGAGGTGCATATGAATTACAGGCAGTTGACTCCGACGGACCTAATGCTAGCGGCGTAAGGAACTCCCCACATTCCGGAGATTAGGCGTCTGACTCCGCGGAGACCACAGTCTGGTTTCCAGCGCCTCCGTTCTCGTTACGTGGGTGGGCGGTGGTATGAAAGCACTATAACGTAGCTGGAGTAAGGTCTTGTCAGACAGGTTGACCGGCTCGGGGCGAGTAGTTAAAATGAGATTAGCGTATAGAATCATAGCGGAAAGAGTATAAGTTACACCTAAACGCAAGTTGCACAGTTACCATCCGTACTAGAGTCTCAGTGCGGAGATCGTCCCCGTCAGTAAATAGGGGGATGCGCAGTTATGGGACTTCATCCATAGACGAGTCGTAGTAAGTGTCTTGGTCTCCATCACCGCAAATGAGCTCGGAGTAAAAATGTTCATTGTCCTGTCGGAGATAACGCTACTTTGCCAACGCGTTCATCTTTCCCTCGACAGATTCGCATATTTCTTTGAGGACCCATACCTCTCCGCCGCGTCTAATCACGGTACTTTAGTGCTGAGCCTAATACCTTTCCTTTCGCTTGGGTACAAGAGGAAAGTGGGTGTAAGAGGAGCGGAACCCTAAATTACGGCCTGATTGCAGCATTTTCAGAGTGAGTCAATGATGATGAAACAATTAGAAGGTACTGCCGTGCTACATTCGTCGTGAGCGCTACGAGCAACCGGAGGGAAAAGATACACCTATCGCGTAAGTTAACACGAATGAAGGTGGCGTGCAGACCTCGTTAACGCGCCAGTAGGTACCGTAGAATACGCCAACAAGGTGTTGAGAGAACGTTGCCATAGATTCCGACTGTCTAACTGGGGGTCACGCTATGCGGCGGGTTCGGGTATCTGCCCATGAACAGCTATCGCCTATAATGCAGGAGGCCGAAACGGCTATTAATGAAGCTCCGCGCATAAGTGGCAGTGTACTTAAATCTATGCTTGACAATACATTGGTCGCCGACTAGTCAGTTACAGAACAAATCCTTGTAGTTTTTCGCTGCACTAAACTCTTGGGTCGTACTTTCTGTACATGCACTCAACACATCATCCACACTCCCAAACGGGCGAGGAGCAACACCGAAAGTACGACGGACACAGGCGCCTGGTGTGACCAAGTCCTAAGCAATACCTAGTAAACGTAATGGTGGGATACTACCATGTGTAAAGTGAATTGAAGATCCGGAAGGCCTCCACGCCTGTTAAGGGGCACTTCTTACTCTCTTCCAGATGGCGGGCCCAGTTCGCGATAACCGTCGCCCCACGGAGTTGTACAAGTTAGAGAGGCCTTCATTGGCGACCAAGCCACGGGCTCGACTGGCGTAAGTTAGGCATGACAAGGCGCTGAAAGATGCGCGAGGGACACCCAATCTAGTAATAGCGTTGATGGCCCCTAAGCGGAGTCACGTATTTAGGATTGGCGAGATTCTTACGTGGGCAAGCGGAAGGGTCCCTTACCTCTACATCTTTGAATAAATTGTTTATACCGATTACGGTGTTAAAATTACGGAAGTTATTGTTGGATGCAAGGAAAATCCCACATGAGAGGTCCCTCGTGCCCGAGAGGGCTCCCTGGATCCCTAGACGGTTTCCGCGCCTTCAGCTGCCCATAGGCGGTGCTCCGAGATCAGTAAACTTGAGTAAACTATGAATGCCAATACGATAACATATTGGAGAGAATTTAAGAGGCGTAGGGGGACTGGTTGGGATTACTTTTGCCGCTGTCACCGATCCGCGGAGGGCGAGACTCTGGTACTACCAGCATTCCGGAGCGGGCATCTCTTTACCAATGCCCGTTGATCTCACAAGAATCTTCTCCTCTGCCTAAAAGACCGTCGGCGAACGGCGGGAAATAGATAGTTTAGCGCTTATGATCGGCCCACAATTGCGCCTGCCTCGATCGTGTGACCGTGGTGCCAATGCAAGTGGACGCCATCAGATGACATAATACACTAGTGGGGTCACACTCACGCCCGTTAATCAGCTAGGAAGGGTAGGAACTTTACCCCACACTACGAGGGCTACTCCGTTTGTTCTTGGTAGGCTACGACTATATGGGCTGATCGTTTAGTTTACCACTGTGGATTCCTGTCGTTGGCGTTTCAACTATTGATAGCTTGAGGCCCACTTTACTCATTGGTGAGTGCGGACAAGAGTCGAGATTGAGGAAGCGAGGCTTTGCGCCCCTCAATTTTCTTCCGCGTACATTTTTCAGACCAAAGTTACCGTAAAATGCGTCTAACCCAAAACCGGCTAAGTACGGACTTCGAATGCTTCGGTGGGTTAGATAGAACGACTATTGGGAGGTAGCTGTGCGCATCAGTTGTCTAATAAGTTAAGGAGCGCCCATACTCAAGAGCAATAGTGTGCGCTCCTGGATAGCTACACTCGCCTATATACTGCTTCGGTGATCGGAGGAGATAACGTACCGGCTTCCCGTAAATGAGCTGTAATGACGCAGACCCCTCATAGTTTATCACCCCATCGTTAGTTGAAATGCCCCCCGACATGAATGATCCGTTCTATCCATAGCTGGGGACTAGCGGCCTCTACATCTGGTTAGAAAACCGGGTGTGAGGAAAACCACTGAAGATCTTGTTACACACAACCCACCATCATTGTAAGCAATTTGTACATTTGCTGCATGCTACGATGGTGTGTACCGTGAAGGCTTACTATTTTCTGCAAAAGCTGAGATCATTGTTCGTTTGGGAGTCGGATCGGTCCCCCTTCCGCATGACAGTTGTCACCCTAAAAGAACGAAAAAAGCAATCTTGTAATTATTCGGGCTCAGCTCAGCACTCTGACAAGCTCCGGCCGTTGACTCTTGGGGTGCATCCATAATTGCCGGACTAGGAGATGCGGAGTCTGCTGATGCGTGTGGACAGGGGGGAAATGACGACGAGAGAGCGTCGTACCTTTTGATGGTTCCCGCGTGGACGGACGAAAAGCACATGGTATTGTCGGGGCATAAACTCCAGCTTAACCGCCGCTTGTAACAACACATCATGCGGCGACCCTAGCCAACTATTAGTATTTTCTAATTGTAACCGGAGTAAGTTGTCCGTCTAATGTCCACTATTTGCGATCAGACCTAATACAACCGGGTTTCCATATATGCACATCAGGCAGCGAACCGACATCTCCTACTAAGGGCCATGCTAGGTAAGTTCTTCCCGGCAAGGTCTAGGATACCACAACCGGGAGCCTGTCCTGCACCTTCGAGCAGGTCAGCCGACGATACATGTCTTTTAAAATTTTACTAGTACACCTATGTTTATGTCCAAGCATGCCGTGAGTAATAGAAAATCGGTGGCAGGAATTTGATCATTAGAGATGGTGCTTAACCTTCAGTCGGGCCTGCTTGATCTCAGAGCAGATCCCGCGTGAAAAGACCCACTCTTCATGCCACATGCCAGGGGTAGGTATGTTTCCACCCATGTCTATTCACTTTTCGAGTCAAAGGTGGGCCACTATCCTCAAAAGCTTACAGCGCAACGTGGCTACGCCAGACCTCTATGCGACTTATTGATAGTCTGAAGGTAATAGCACTGCATCTGTAAGCACACACCGCTATCTATCTGTTGGACTCAAGCTCTGGCGAAACGTGCCGTAGTCAAGTAAGGCGAAAACTTCTACGCATCGATGGCTGTATATAAACCGCTGACACTGCTTGTTCCCGGTTGTAGCTAAGTCGGGCTCAAATGGTCGTGCATAACTGTTCCTCATATTTCGTACGTC\n",
      "20098\n"
     ]
    }
   ],
   "source": [
    "for L in [100,1000,10000]:\n",
    "    # L = 100\n",
    "    S1 = evolution_simulator.generate_random_seq(L) #sequence of lenght L\n",
    "    S2 = evolution_simulator.generate_random_seq(L) #sequence of lenght L\n",
    "    sequences_filename = \"./data/Benchmarking/dataset/sequences.fasta\"\n",
    "    outfile = open(sequences_filename, 'w+')\n",
    "    outfile.write('> s1 \\n')\n",
    "    outfile.write(S1)\n",
    "    print(S1)\n",
    "    outfile.write(' \\n> s2 \\n')\n",
    "    outfile.write(S2)\n",
    "\n",
    "    start = tracemalloc.start()\n",
    "\n",
    "    os.system(\"clustalw \"+ sequences_filename + ' > outfile')  \n",
    "\n",
    "\n",
    "    end = sys.getsizeof(S1) + sys.getsizeof(S2)\n",
    "    print(end)\n",
    "\n",
    "    Benchmarking.append(['CLUSTAL-W ', L, end])\n",
    "\n",
    "    tracemalloc.stop()"
   ]
  },
  {
   "cell_type": "code",
   "execution_count": 11,
   "metadata": {},
   "outputs": [
    {
     "data": {
      "text/html": [
       "<div>\n",
       "<style scoped>\n",
       "    .dataframe tbody tr th:only-of-type {\n",
       "        vertical-align: middle;\n",
       "    }\n",
       "\n",
       "    .dataframe tbody tr th {\n",
       "        vertical-align: top;\n",
       "    }\n",
       "\n",
       "    .dataframe thead th {\n",
       "        text-align: right;\n",
       "    }\n",
       "</style>\n",
       "<table border=\"1\" class=\"dataframe\">\n",
       "  <thead>\n",
       "    <tr style=\"text-align: right;\">\n",
       "      <th></th>\n",
       "      <th>0</th>\n",
       "      <th>1</th>\n",
       "      <th>2</th>\n",
       "    </tr>\n",
       "  </thead>\n",
       "  <tbody>\n",
       "    <tr>\n",
       "      <th>0</th>\n",
       "      <td>Size: 11 gap1</td>\n",
       "      <td>100</td>\n",
       "      <td>464</td>\n",
       "    </tr>\n",
       "    <tr>\n",
       "      <th>1</th>\n",
       "      <td>Size: 11 gap1</td>\n",
       "      <td>1000</td>\n",
       "      <td>464</td>\n",
       "    </tr>\n",
       "    <tr>\n",
       "      <th>2</th>\n",
       "      <td>Size: 11 gap1</td>\n",
       "      <td>10000</td>\n",
       "      <td>464</td>\n",
       "    </tr>\n",
       "    <tr>\n",
       "      <th>3</th>\n",
       "      <td>Size: 11 gap1</td>\n",
       "      <td>100000</td>\n",
       "      <td>464</td>\n",
       "    </tr>\n",
       "    <tr>\n",
       "      <th>4</th>\n",
       "      <td>Size: 11 gap5</td>\n",
       "      <td>100</td>\n",
       "      <td>464</td>\n",
       "    </tr>\n",
       "    <tr>\n",
       "      <th>5</th>\n",
       "      <td>Size: 11 gap5</td>\n",
       "      <td>1000</td>\n",
       "      <td>464</td>\n",
       "    </tr>\n",
       "    <tr>\n",
       "      <th>6</th>\n",
       "      <td>Size: 11 gap5</td>\n",
       "      <td>10000</td>\n",
       "      <td>464</td>\n",
       "    </tr>\n",
       "    <tr>\n",
       "      <th>7</th>\n",
       "      <td>Size: 11 gap5</td>\n",
       "      <td>100000</td>\n",
       "      <td>464</td>\n",
       "    </tr>\n",
       "    <tr>\n",
       "      <th>8</th>\n",
       "      <td>Size: 11 gap10</td>\n",
       "      <td>100</td>\n",
       "      <td>464</td>\n",
       "    </tr>\n",
       "    <tr>\n",
       "      <th>9</th>\n",
       "      <td>Size: 11 gap10</td>\n",
       "      <td>1000</td>\n",
       "      <td>464</td>\n",
       "    </tr>\n",
       "    <tr>\n",
       "      <th>10</th>\n",
       "      <td>Size: 11 gap10</td>\n",
       "      <td>10000</td>\n",
       "      <td>464</td>\n",
       "    </tr>\n",
       "    <tr>\n",
       "      <th>11</th>\n",
       "      <td>Size: 11 gap10</td>\n",
       "      <td>100000</td>\n",
       "      <td>464</td>\n",
       "    </tr>\n",
       "    <tr>\n",
       "      <th>12</th>\n",
       "      <td>MAFFT</td>\n",
       "      <td>100</td>\n",
       "      <td>298</td>\n",
       "    </tr>\n",
       "    <tr>\n",
       "      <th>13</th>\n",
       "      <td>MAFFT</td>\n",
       "      <td>1000</td>\n",
       "      <td>2098</td>\n",
       "    </tr>\n",
       "    <tr>\n",
       "      <th>14</th>\n",
       "      <td>MAFFT</td>\n",
       "      <td>10000</td>\n",
       "      <td>20098</td>\n",
       "    </tr>\n",
       "    <tr>\n",
       "      <th>15</th>\n",
       "      <td>MAFFT</td>\n",
       "      <td>100000</td>\n",
       "      <td>200098</td>\n",
       "    </tr>\n",
       "    <tr>\n",
       "      <th>16</th>\n",
       "      <td>CLUSTAL-W</td>\n",
       "      <td>100</td>\n",
       "      <td>298</td>\n",
       "    </tr>\n",
       "    <tr>\n",
       "      <th>17</th>\n",
       "      <td>CLUSTAL-W</td>\n",
       "      <td>1000</td>\n",
       "      <td>2098</td>\n",
       "    </tr>\n",
       "    <tr>\n",
       "      <th>18</th>\n",
       "      <td>CLUSTAL-W</td>\n",
       "      <td>10000</td>\n",
       "      <td>20098</td>\n",
       "    </tr>\n",
       "  </tbody>\n",
       "</table>\n",
       "</div>"
      ],
      "text/plain": [
       "                  0       1       2\n",
       "0     Size: 11 gap1     100     464\n",
       "1     Size: 11 gap1    1000     464\n",
       "2     Size: 11 gap1   10000     464\n",
       "3     Size: 11 gap1  100000     464\n",
       "4     Size: 11 gap5     100     464\n",
       "5     Size: 11 gap5    1000     464\n",
       "6     Size: 11 gap5   10000     464\n",
       "7     Size: 11 gap5  100000     464\n",
       "8    Size: 11 gap10     100     464\n",
       "9    Size: 11 gap10    1000     464\n",
       "10   Size: 11 gap10   10000     464\n",
       "11   Size: 11 gap10  100000     464\n",
       "12           MAFFT      100     298\n",
       "13           MAFFT     1000    2098\n",
       "14           MAFFT    10000   20098\n",
       "15           MAFFT   100000  200098\n",
       "16       CLUSTAL-W      100     298\n",
       "17       CLUSTAL-W     1000    2098\n",
       "18       CLUSTAL-W    10000   20098"
      ]
     },
     "execution_count": 11,
     "metadata": {},
     "output_type": "execute_result"
    }
   ],
   "source": [
    "pd.DataFrame(Benchmarking)"
   ]
  },
  {
   "cell_type": "code",
   "execution_count": 12,
   "metadata": {},
   "outputs": [
    {
     "name": "stdout",
     "output_type": "stream",
     "text": [
      "./data/Benchmarking/dataset/S1.fasta\t./data/Benchmarking/dataset/S2.fasta\t1\t1\t0/160\n",
      "298\n",
      "./data/Benchmarking/dataset/S1.fasta\t./data/Benchmarking/dataset/S2.fasta\t1\t1\t0/1000\n",
      "2098\n",
      "./data/Benchmarking/dataset/S1.fasta\t./data/Benchmarking/dataset/S2.fasta\t1\t1\t0/1000\n",
      "20098\n",
      "./data/Benchmarking/dataset/S1.fasta\t./data/Benchmarking/dataset/S2.fasta\t1\t1\t0/1000\n",
      "200098\n"
     ]
    },
    {
     "name": "stderr",
     "output_type": "stream",
     "text": [
      "Sketching ./data/Benchmarking/dataset/S1.fasta...\n",
      "Writing to ./data/Benchmarking/dataset/S1.fasta.msh...\n",
      "Sketching ./data/Benchmarking/dataset/S2.fasta...\n",
      "Writing to ./data/Benchmarking/dataset/S2.fasta.msh...\n",
      "Sketching ./data/Benchmarking/dataset/S1.fasta...\n",
      "Writing to ./data/Benchmarking/dataset/S1.fasta.msh...\n",
      "Sketching ./data/Benchmarking/dataset/S2.fasta...\n",
      "Writing to ./data/Benchmarking/dataset/S2.fasta.msh...\n",
      "Sketching ./data/Benchmarking/dataset/S1.fasta...\n",
      "Writing to ./data/Benchmarking/dataset/S1.fasta.msh...\n",
      "Sketching ./data/Benchmarking/dataset/S2.fasta...\n",
      "Writing to ./data/Benchmarking/dataset/S2.fasta.msh...\n",
      "Sketching ./data/Benchmarking/dataset/S1.fasta...\n",
      "Writing to ./data/Benchmarking/dataset/S1.fasta.msh...\n",
      "Sketching ./data/Benchmarking/dataset/S2.fasta...\n",
      "Writing to ./data/Benchmarking/dataset/S2.fasta.msh...\n"
     ]
    }
   ],
   "source": [
    "for L in [100,1000,10000,100000]:\n",
    "    # L = 100\n",
    "    S1 = evolution_simulator.generate_random_seq(L) #sequence of lenght L\n",
    "    evolution_simulator.to_fasta(S1,'S1', \"./data/Benchmarking/dataset/\") #sequence of lenght L\n",
    "\n",
    "    S2 = evolution_simulator.generate_random_seq(L) #sequence of lenght L\n",
    "    evolution_simulator.to_fasta(S2,'S2', \"./data/Benchmarking/dataset/\") #sequence of lenght L\n",
    "\n",
    "\n",
    "    start = tracemalloc.start()\n",
    "\n",
    "    os.system(\"mash sketch  \"+ \"./data/Benchmarking/dataset/S1.fasta\" )  \n",
    "    os.system(\"mash sketch  \"+ \"./data/Benchmarking/dataset/S2.fasta\" )  \n",
    "    os.system(\"mash dist  \"+ \"./data/Benchmarking/dataset/S1.fasta.msh ./data/Benchmarking/dataset/S2.fasta.msh\" )  \n",
    "\n",
    "    end = sys.getsizeof(S1) + sys.getsizeof(S2)\n",
    "    print(end)\n",
    "\n",
    "    Benchmarking.append([' MASH ', L, end])\n",
    "\n",
    "    tracemalloc.stop()"
   ]
  },
  {
   "cell_type": "code",
   "execution_count": 13,
   "metadata": {},
   "outputs": [
    {
     "name": "stderr",
     "output_type": "stream",
     "text": [
      "0 sequences read\n",
      "there must be at least 2 sequences\n"
     ]
    },
    {
     "name": "stdout",
     "output_type": "stream",
     "text": [
      "298\n"
     ]
    },
    {
     "name": "stderr",
     "output_type": "stream",
     "text": [
      "2 sequences read\n",
      "start sorting\n",
      "each sequence must be longer than 1000 base pairs\n",
      "each sequence must be longer than 1000 base pairs\n"
     ]
    },
    {
     "name": "stdout",
     "output_type": "stream",
     "text": [
      "2098\n"
     ]
    },
    {
     "name": "stderr",
     "output_type": "stream",
     "text": [
      "2 sequences read\n",
      "start sorting\n",
      "starting pairwise distance calculation\n",
      "1/1\n",
      "done\n",
      "\n",
      "Distances written to file DMat\n"
     ]
    },
    {
     "name": "stdout",
     "output_type": "stream",
     "text": [
      "20098\n",
      "200098\n"
     ]
    },
    {
     "name": "stderr",
     "output_type": "stream",
     "text": [
      "2 sequences read\n",
      "start sorting\n",
      "starting pairwise distance calculation\n",
      "1/1\n",
      "done\n",
      "\n",
      "Distances written to file DMat\n"
     ]
    }
   ],
   "source": [
    "\n",
    "\n",
    "for L in [100,1000,10000,100000]:\n",
    "    S1 = evolution_simulator.generate_random_seq(L) #sequence of lenght L\n",
    "    S2 = evolution_simulator.generate_random_seq(L) #sequence of lenght L\n",
    "    sequences_filename = \"./data/Benchmarking/dataset/sequences.fasta\"\n",
    "    outfile = open(sequences_filename, 'w+')\n",
    "    outfile.write('> s1 \\n')\n",
    "    outfile.write(S1)\n",
    "    outfile.write('\\n> s2 \\n')\n",
    "    outfile.write(S2)\n",
    "\n",
    "    start = tracemalloc.start()\n",
    "\n",
    "    os.system(\"/home/mounim/Downloads/fswm-master/fswm ./data/Benchmarking/dataset/sequences.fasta\" )  \n",
    "\n",
    "    end = sys.getsizeof(S1) + sys.getsizeof(S2)\n",
    "\n",
    "    print(end)\n",
    "\n",
    "    Benchmarking.append([' fswm ', L, end])\n",
    "\n",
    "    tracemalloc.stop()"
   ]
  },
  {
   "cell_type": "code",
   "execution_count": 14,
   "metadata": {},
   "outputs": [
    {
     "name": "stderr",
     "output_type": "stream",
     "text": [
      "andi: One of the given input sequences is shorter than a thousand nucleotides. This may result in inaccurate distances. Try an alignment instead.\n",
      "andi: For the two sequences 'S1' and 'S2' the distance computation failed and is reported as nan. Please refer to the documentation for further details.\n",
      "andi: For the two sequences 'S2' and 'S1' the distance computation failed and is reported as nan. Please refer to the documentation for further details.\n",
      "andi: For the two sequences 'S1' and 'S2' the distance computation failed and is reported as nan. Please refer to the documentation for further details.\n",
      "andi: For the two sequences 'S2' and 'S1' the distance computation failed and is reported as nan. Please refer to the documentation for further details.\n",
      "andi: For the two sequences 'S1' and 'S2' the distance computation failed and is reported as nan. Please refer to the documentation for further details.\n",
      "andi: For the two sequences 'S2' and 'S1' the distance computation failed and is reported as nan. Please refer to the documentation for further details.\n"
     ]
    },
    {
     "name": "stdout",
     "output_type": "stream",
     "text": [
      "2\n",
      "S1         0.0000 nan\n",
      "S2         nan 0.0000\n",
      "298\n",
      "2\n",
      "S1         0.0000 nan\n",
      "S2         nan 0.0000\n",
      "2098\n",
      "2\n",
      "S1         0.0000 nan\n",
      "S2         nan 0.0000\n",
      "20098\n",
      "2\n",
      "S1         0.0000 nan\n",
      "S2         nan 0.0000\n",
      "200098\n"
     ]
    },
    {
     "name": "stderr",
     "output_type": "stream",
     "text": [
      "andi: For the two sequences 'S1' and 'S2' the distance computation failed and is reported as nan. Please refer to the documentation for further details.\n",
      "andi: For the two sequences 'S2' and 'S1' the distance computation failed and is reported as nan. Please refer to the documentation for further details.\n"
     ]
    }
   ],
   "source": [
    "for L in [100,1000,10000,100000]:\n",
    "    # L = 100\n",
    "    S1 = evolution_simulator.generate_random_seq(L) #sequence of lenght L\n",
    "    evolution_simulator.to_fasta(S1,'S1', \"./data/Benchmarking/dataset/\") #sequence of lenght L\n",
    "\n",
    "    S2 = evolution_simulator.generate_random_seq(L) #sequence of lenght L\n",
    "    evolution_simulator.to_fasta(S2,'S2', \"./data/Benchmarking/dataset/\") #sequence of lenght L\n",
    "\n",
    "    start = tracemalloc.start()\n",
    "\n",
    "    os.system(\"andi ./data/Benchmarking/dataset/S1.fasta ./data/Benchmarking/dataset/S2.fasta\" )  \n",
    "\n",
    "    end = sys.getsizeof(S1) + sys.getsizeof(S2)\n",
    "    print(end)\n",
    "\n",
    "    Benchmarking.append([' ANDI ', L, end])\n",
    "\n",
    "    tracemalloc.stop()"
   ]
  },
  {
   "cell_type": "code",
   "execution_count": 15,
   "metadata": {},
   "outputs": [
    {
     "data": {
      "text/plain": [
       "<AxesSubplot:xlabel='None-1', ylabel='0'>"
      ]
     },
     "execution_count": 15,
     "metadata": {},
     "output_type": "execute_result"
    },
    {
     "data": {
      "image/png": "[encoded data removed]",
      "text/plain": [
       "<Figure size 720x1008 with 2 Axes>"
      ]
     },
     "metadata": {
      "needs_background": "light"
     },
     "output_type": "display_data"
    }
   ],
   "source": [
    "benchmark = pd.DataFrame(Benchmarking)\n",
    "benchmark[benchmark.iloc[:,2] > 5 ][2] = 5\n",
    "benchmark\n",
    "matrix = pd.pivot_table(data = benchmark, columns=[1],  index=[0])\n",
    "matrix.droplevel(0, axis=1) \n",
    "matrix.droplevel(1, axis=1) \n",
    "colormap = sns.color_palette(\"vlag\")\n",
    "\n",
    "plt.figure(figsize=(10, 14))\n",
    "\n",
    "sns.heatmap(np.log10((matrix)*100+1), annot=matrix, fmt='.5f', cmap='Spectral_r')\n"
   ]
  },
  {
   "cell_type": "code",
   "execution_count": null,
   "metadata": {},
   "outputs": [],
   "source": []
  }
 ],
 "metadata": {
  "kernelspec": {
   "display_name": "spatial-networks",
   "language": "python",
   "name": "spatial-networks"
  },
  "language_info": {
   "codemirror_mode": {
    "name": "ipython",
    "version": 3
   },
   "file_extension": ".py",
   "mimetype": "text/x-python",
   "name": "python",
   "nbconvert_exporter": "python",
   "pygments_lexer": "ipython3",
   "version": "3.9.12"
  },
  "orig_nbformat": 4,
  "vscode": {
   "interpreter": {
    "hash": "916dbcbb3f70747c44a77c7bcd40155683ae19c65e1c03b4aa3499c5328201f1"
   }
  }
 },
 "nbformat": 4,
 "nbformat_minor": 2
}
